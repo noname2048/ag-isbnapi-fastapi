{
 "cells": [
  {
   "cell_type": "code",
   "execution_count": 1,
   "metadata": {},
   "outputs": [],
   "source": [
    "crawling_data = {\n",
    "    'title': '모던 자바스크립트 Deep Dive - 자바스크립트의 기본 개념과 동작 원리',\n",
    "    'description': '자바스크립트를 둘러싼 기본 개념을 정확하고 구체적으로 설명하고, 자바스크립트 코드의 동작 원리를 집요하게 파헤친다. 작성한 코드가 컴퓨터 내부에서 어떻게 동작할 것인지 예측하고, 명확히 설명할 수 있도록 돕는다.',\n",
    "    'isbn13': '9791158392239',\n",
    "    'cover': 'https://image.aladin.co.kr/product/25155/25/cover/k282633473_1.jpg',\n",
    "    'publisher': '위키북스',\n",
    "    'priceSales': 40500,\n",
    "    'pubDate': '2020-09-24',\n",
    "    'author': '이웅모 지음'\n",
    "}\n",
    "\n",
    "import os\n",
    "from pathlib import Path\n",
    "\n",
    "current_dir = Path(os.getcwd())\n",
    "assert current_dir.name == \"jupyter_research\""
   ]
  },
  {
   "cell_type": "code",
   "execution_count": 2,
   "metadata": {},
   "outputs": [],
   "source": [
    "from pydantic import BaseSettings\n",
    "\n",
    "class Config(BaseSettings):\n",
    "    mongodb_dsn: str = \"\"\n",
    "\n",
    "    class Config:\n",
    "        env_file = \".env\" \n",
    "\n",
    "config = Config()"
   ]
  },
  {
   "cell_type": "code",
   "execution_count": 3,
   "metadata": {},
   "outputs": [],
   "source": [
    "from dotenv import dotenv_values\n",
    "from motor.motor_asyncio import AsyncIOMotorClient\n",
    "\n",
    "client: AsyncIOMotorClient = AsyncIOMotorClient(config.mongodb_dsn)\n",
    "\n",
    "db = client['isbn']\n",
    "collection = db['books']"
   ]
  },
  {
   "cell_type": "code",
   "execution_count": 16,
   "metadata": {},
   "outputs": [
    {
     "data": {
      "text/plain": [
       "[{'_id': ObjectId('61e8295adfed2ed0b0d7c4ee'),\n",
       "  'author': '마틴 클레프만 지음, 김영준 외 옮김',\n",
       "  'cover': '9791158390983.jpg',\n",
       "  'created_at': datetime.datetime(2022, 1, 20, 0, 8, 10, 690000),\n",
       "  'description': '데이터를 처리하고 저장하는 다양한 기술의 장단점을 검토한다. 소프트웨어는 계속 변하지만 근본 원리는 동일하다. 이 책에서 소프트웨어 엔지니어와 아키텍트는 실전에 이 개념을 어떻게 적용하는지, 그리고 현대 애플리케이션에서 어떻게 데이터를 최대한 활용하는지 배운다.',\n",
       "  'isbn13': 9791158390983,\n",
       "  'price': 36000,\n",
       "  'pub_date': datetime.datetime(2018, 4, 11, 0, 0),\n",
       "  'publisher': '위키북스',\n",
       "  'response_id': ObjectId('61e8295adfed2ed0b0d7c4ed'),\n",
       "  'title': '데이터 중심 애플리케이션 설계 - 신뢰할 수 있고 확장 가능하며 유지보수하기 쉬운 시스템을 지탱하는 핵심 아이디어',\n",
       "  'updated_at': None}]"
      ]
     },
     "execution_count": 16,
     "metadata": {},
     "output_type": "execute_result"
    }
   ],
   "source": [
    "cursor = collection.find({})\n",
    "await cursor.to_list(length=1)"
   ]
  }
 ],
 "metadata": {
  "interpreter": {
   "hash": "81bb5bb024ee087e945ba78fd702cae2b2fea2701b6c424a4313e411e10f3bc3"
  },
  "kernelspec": {
   "display_name": "Python 3.9.6 64-bit ('fastapi')",
   "language": "python",
   "name": "python3"
  },
  "language_info": {
   "codemirror_mode": {
    "name": "ipython",
    "version": 3
   },
   "file_extension": ".py",
   "mimetype": "text/x-python",
   "name": "python",
   "nbconvert_exporter": "python",
   "pygments_lexer": "ipython3",
   "version": "3.9.6"
  },
  "orig_nbformat": 4
 },
 "nbformat": 4,
 "nbformat_minor": 2
}
