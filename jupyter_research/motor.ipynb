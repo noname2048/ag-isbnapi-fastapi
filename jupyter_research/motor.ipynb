{
 "cells": [
  {
   "cell_type": "code",
   "execution_count": 1,
   "metadata": {},
   "outputs": [],
   "source": [
    "crawling_data = {\n",
    "    'title': '모던 자바스크립트 Deep Dive - 자바스크립트의 기본 개념과 동작 원리',\n",
    "    'description': '자바스크립트를 둘러싼 기본 개념을 정확하고 구체적으로 설명하고, 자바스크립트 코드의 동작 원리를 집요하게 파헤친다. 작성한 코드가 컴퓨터 내부에서 어떻게 동작할 것인지 예측하고, 명확히 설명할 수 있도록 돕는다.',\n",
    "    'isbn13': '9791158392239',\n",
    "    'cover': 'https://image.aladin.co.kr/product/25155/25/cover/k282633473_1.jpg',\n",
    "    'publisher': '위키북스',\n",
    "    'priceSales': 40500,\n",
    "    'pubDate': '2020-09-24',\n",
    "    'author': '이웅모 지음'\n",
    "}\n",
    "\n",
    "import os\n",
    "from pathlib import Path\n",
    "\n",
    "current_dir = Path(os.getcwd())\n",
    "assert current_dir.name == \"jupyter_research\""
   ]
  },
  {
   "cell_type": "code",
   "execution_count": 2,
   "metadata": {},
   "outputs": [],
   "source": [
    "from pydantic import BaseSettings\n",
    "\n",
    "class Config(BaseSettings):\n",
    "    mongodb_dsn: str = \"\"\n",
    "\n",
    "    class Config:\n",
    "        env_file = \".env\" \n",
    "\n",
    "config = Config()"
   ]
  },
  {
   "cell_type": "code",
   "execution_count": 3,
   "metadata": {},
   "outputs": [],
   "source": [
    "from dotenv import dotenv_values\n",
    "from motor.motor_asyncio import AsyncIOMotorClient\n",
    "\n",
    "client: AsyncIOMotorClient = AsyncIOMotorClient(config.mongodb_dsn)\n",
    "\n",
    "db = client['isbn']\n",
    "collection = db['books']"
   ]
  },
  {
   "cell_type": "code",
   "execution_count": 4,
   "metadata": {},
   "outputs": [],
   "source": [
    "cursor = collection.find({})\n",
    "first = await cursor.to_list(length=1)"
   ]
  },
  {
   "cell_type": "code",
   "execution_count": 5,
   "metadata": {},
   "outputs": [
    {
     "data": {
      "text/plain": [
       "[{'_id': ObjectId('61e8295adfed2ed0b0d7c4ee'),\n",
       "  'author': '마틴 클레프만 지음, 김영준 외 옮김',\n",
       "  'cover': '9791158390983.jpg',\n",
       "  'created_at': datetime.datetime(2022, 1, 20, 0, 8, 10, 690000),\n",
       "  'description': '데이터를 처리하고 저장하는 다양한 기술의 장단점을 검토한다. 소프트웨어는 계속 변하지만 근본 원리는 동일하다. 이 책에서 소프트웨어 엔지니어와 아키텍트는 실전에 이 개념을 어떻게 적용하는지, 그리고 현대 애플리케이션에서 어떻게 데이터를 최대한 활용하는지 배운다.',\n",
       "  'isbn13': 9791158390983,\n",
       "  'price': 36000,\n",
       "  'pub_date': datetime.datetime(2018, 4, 11, 0, 0),\n",
       "  'publisher': '위키북스',\n",
       "  'response_id': ObjectId('61e8295adfed2ed0b0d7c4ed'),\n",
       "  'title': '데이터 중심 애플리케이션 설계 - 신뢰할 수 있고 확장 가능하며 유지보수하기 쉬운 시스템을 지탱하는 핵심 아이디어',\n",
       "  'updated_at': None}]"
      ]
     },
     "execution_count": 5,
     "metadata": {},
     "output_type": "execute_result"
    }
   ],
   "source": [
    "first"
   ]
  },
  {
   "cell_type": "code",
   "execution_count": 6,
   "metadata": {},
   "outputs": [
    {
     "data": {
      "text/plain": [
       "9791158390983"
      ]
     },
     "execution_count": 6,
     "metadata": {},
     "output_type": "execute_result"
    }
   ],
   "source": [
    "first[0][\"isbn13\"]"
   ]
  },
  {
   "cell_type": "code",
   "execution_count": 7,
   "metadata": {},
   "outputs": [],
   "source": [
    "collection = client[\"isbn\"][\"reqeusts\"]\n",
    "import datetime"
   ]
  },
  {
   "cell_type": "code",
   "execution_count": 8,
   "metadata": {},
   "outputs": [],
   "source": [
    "async def do_insert():\n",
    "    now = datetime.datetime.utcnow()\n",
    "    result = await collection.insert_one(\n",
    "        {\"isbn\": 1234567890123,\n",
    "        \"status\": \"requested\",\n",
    "        \"request_date\": datetime.datetime.utcnow(),\n",
    "        \"updated_date\": datetime.datetime.utcnow()}\n",
    "        )\n",
    "    print(\"result %s\" % repr(result.inserted_id))\n",
    "    return result\n",
    "\n",
    "async def do_find(id):\n",
    "    r = await collection.find_one({\"_id\": id})\n",
    "    return r"
   ]
  },
  {
   "cell_type": "code",
   "execution_count": 9,
   "metadata": {},
   "outputs": [
    {
     "name": "stdout",
     "output_type": "stream",
     "text": [
      "result ObjectId('621cabe0614a1df5d2fe5298')\n",
      "{'_id': ObjectId('621cabe0614a1df5d2fe5298'), 'isbn': 1234567890123, 'status': 'requested', 'request_date': datetime.datetime(2022, 2, 28, 11, 2, 56, 719000), 'updated_date': datetime.datetime(2022, 2, 28, 11, 2, 56, 719000)}\n"
     ]
    }
   ],
   "source": [
    "a = await do_insert()\n",
    "b = await do_find(a.inserted_id)\n",
    "print(b)"
   ]
  },
  {
   "cell_type": "code",
   "execution_count": 16,
   "metadata": {},
   "outputs": [
    {
     "data": {
      "text/plain": [
       "'621cabe0614a1df5d2fe5298'"
      ]
     },
     "execution_count": 16,
     "metadata": {},
     "output_type": "execute_result"
    }
   ],
   "source": [
    "from bson import ObjectId\n",
    "c: ObjectId = b['_id']\n",
    "str(c)"
   ]
  },
  {
   "cell_type": "code",
   "execution_count": 10,
   "metadata": {},
   "outputs": [
    {
     "name": "stdout",
     "output_type": "stream",
     "text": [
      "<pymongo.results.InsertOneResult object at 0x7f756f740540>\n"
     ]
    }
   ],
   "source": [
    "print(a)"
   ]
  },
  {
   "cell_type": "code",
   "execution_count": 11,
   "metadata": {},
   "outputs": [
    {
     "ename": "TypeError",
     "evalue": "'InsertOneResult' object is not iterable",
     "output_type": "error",
     "traceback": [
      "\u001b[0;31m---------------------------------------------------------------------------\u001b[0m",
      "\u001b[0;31mTypeError\u001b[0m                                 Traceback (most recent call last)",
      "\u001b[1;32m/home/swook/Desktop/web/ag-isbnapi-fastapi/jupyter_research/motor.ipynb Cell 11'\u001b[0m in \u001b[0;36m<module>\u001b[0;34m\u001b[0m\n\u001b[0;32m----> <a href='vscode-notebook-cell:/home/swook/Desktop/web/ag-isbnapi-fastapi/jupyter_research/motor.ipynb#ch0000010?line=0'>1</a>\u001b[0m \u001b[39mlist\u001b[39;49m(a)\n",
      "\u001b[0;31mTypeError\u001b[0m: 'InsertOneResult' object is not iterable"
     ]
    }
   ],
   "source": [
    "list(a)"
   ]
  },
  {
   "cell_type": "code",
   "execution_count": null,
   "metadata": {},
   "outputs": [
    {
     "data": {
      "text/plain": [
       "['_InsertOneResult__acknowledged',\n",
       " '_InsertOneResult__inserted_id',\n",
       " '_WriteResult__acknowledged',\n",
       " '__class__',\n",
       " '__delattr__',\n",
       " '__dir__',\n",
       " '__doc__',\n",
       " '__eq__',\n",
       " '__format__',\n",
       " '__ge__',\n",
       " '__getattribute__',\n",
       " '__gt__',\n",
       " '__hash__',\n",
       " '__init__',\n",
       " '__init_subclass__',\n",
       " '__le__',\n",
       " '__lt__',\n",
       " '__module__',\n",
       " '__ne__',\n",
       " '__new__',\n",
       " '__reduce__',\n",
       " '__reduce_ex__',\n",
       " '__repr__',\n",
       " '__setattr__',\n",
       " '__sizeof__',\n",
       " '__slots__',\n",
       " '__str__',\n",
       " '__subclasshook__',\n",
       " '_raise_if_unacknowledged',\n",
       " 'acknowledged',\n",
       " 'inserted_id']"
      ]
     },
     "execution_count": 33,
     "metadata": {},
     "output_type": "execute_result"
    }
   ],
   "source": [
    "dir(a)"
   ]
  },
  {
   "cell_type": "code",
   "execution_count": null,
   "metadata": {},
   "outputs": [],
   "source": []
  }
 ],
 "metadata": {
  "interpreter": {
   "hash": "81bb5bb024ee087e945ba78fd702cae2b2fea2701b6c424a4313e411e10f3bc3"
  },
  "kernelspec": {
   "display_name": "Python 3.9.6 64-bit ('fastapi')",
   "language": "python",
   "name": "python3"
  },
  "language_info": {
   "codemirror_mode": {
    "name": "ipython",
    "version": 3
   },
   "file_extension": ".py",
   "mimetype": "text/x-python",
   "name": "python",
   "nbconvert_exporter": "python",
   "pygments_lexer": "ipython3",
   "version": "3.9.6"
  },
  "orig_nbformat": 4
 },
 "nbformat": 4,
 "nbformat_minor": 2
}
