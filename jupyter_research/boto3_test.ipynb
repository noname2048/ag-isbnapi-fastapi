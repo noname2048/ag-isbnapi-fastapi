{
 "cells": [
  {
   "cell_type": "code",
   "execution_count": 1,
   "metadata": {},
   "outputs": [],
   "source": [
    "import os\n",
    "from pathlib import Path as SysPath\n",
    "from dotenv import dotenv_values\n",
    "\n",
    "REPO_DIR = SysPath(os.path.abspath(\"\")).resolve().parent\n",
    "config = dotenv_values(REPO_DIR / \".env\")\n",
    "aws_id = config[\"aws_id\"]\n",
    "aws_key = config[\"aws_key\"]\n"
   ]
  },
  {
   "cell_type": "code",
   "execution_count": 2,
   "metadata": {},
   "outputs": [],
   "source": [
    "import boto3\n",
    "\n",
    "s3 = boto3.resource(\n",
    "    \"s3\",\n",
    "    region_name=\"ap-northeast-2\",\n",
    "    aws_access_key_id=aws_id,\n",
    "    aws_secret_access_key=aws_key,\n",
    ")"
   ]
  },
  {
   "cell_type": "code",
   "execution_count": 3,
   "metadata": {},
   "outputs": [],
   "source": [
    "bucket = s3.Bucket(\"job-book-image\")\n"
   ]
  },
  {
   "cell_type": "code",
   "execution_count": 43,
   "metadata": {},
   "outputs": [],
   "source": [
    "obj = bucket.Object(\"9788966261840.jpg\")\n"
   ]
  },
  {
   "cell_type": "code",
   "execution_count": 45,
   "metadata": {},
   "outputs": [],
   "source": [
    "with open(REPO_DIR / \"9788966261840.jpg\", mode=\"rb\") as f:\n",
    "    obj.upload_fileobj(f)\n"
   ]
  },
  {
   "cell_type": "code",
   "execution_count": 18,
   "metadata": {},
   "outputs": [],
   "source": [
    "s3 = boto3.resource(\"s3\")\n"
   ]
  },
  {
   "cell_type": "code",
   "execution_count": 19,
   "metadata": {},
   "outputs": [],
   "source": [
    "bucket = s3.Bucket(\"job-image\")\n"
   ]
  },
  {
   "cell_type": "code",
   "execution_count": 49,
   "metadata": {},
   "outputs": [
    {
     "name": "stdout",
     "output_type": "stream",
     "text": [
      "9788966261840.jpg\n"
     ]
    }
   ],
   "source": [
    "for obj in bucket.objects.all():\n",
    "    print(obj.key)\n"
   ]
  },
  {
   "cell_type": "code",
   "execution_count": 19,
   "metadata": {},
   "outputs": [
    {
     "name": "stdout",
     "output_type": "stream",
     "text": [
      "not found\n",
      "True\n"
     ]
    }
   ],
   "source": [
    "from botocore.exceptions import ClientError\n",
    "import re\n",
    "\n",
    "\"\"\"bucket에 object가 있는지 확인하기\"\"\"\n",
    "notfound_pattern = re.compile(r\"404\")\n",
    "try:\n",
    "    obj = bucket.Object(\"97889662618433.jpg\")\n",
    "    obj.load()\n",
    "except ClientError as e:\n",
    "    if notfound_pattern.search(e.args[0]):\n",
    "        print(\"not found\")\n",
    "        print(e.response[\"Error\"][\"Code\"] == \"404\")"
   ]
  },
  {
   "cell_type": "code",
   "execution_count": 5,
   "metadata": {},
   "outputs": [],
   "source": [
    "obj = bucket.load(\"9788966261848.jpg\")"
   ]
  },
  {
   "cell_type": "code",
   "execution_count": 9,
   "metadata": {},
   "outputs": [],
   "source": [
    "obj = bucket.Object(\"9788966261849.jpg\")\n"
   ]
  },
  {
   "cell_type": "code",
   "execution_count": 11,
   "metadata": {},
   "outputs": [
    {
     "ename": "ClientError",
     "evalue": "An error occurred (404) when calling the HeadObject operation: Not Found",
     "output_type": "error",
     "traceback": [
      "\u001b[0;31m---------------------------------------------------------------------------\u001b[0m",
      "\u001b[0;31mClientError\u001b[0m                               Traceback (most recent call last)",
      "\u001b[1;32m/home/swook/Desktop/web/ag-isbnapi-fastapi/jupyter_research/boto3_test.ipynb Cell 12'\u001b[0m in \u001b[0;36m<module>\u001b[0;34m\u001b[0m\n\u001b[0;32m----> <a href='vscode-notebook-cell:/home/swook/Desktop/web/ag-isbnapi-fastapi/jupyter_research/boto3_test.ipynb#ch0000011?line=0'>1</a>\u001b[0m obj\u001b[39m.\u001b[39;49mload()\n",
      "File \u001b[0;32m~/.pyenv/versions/3.9.6/envs/fastapi/lib/python3.9/site-packages/boto3/resources/factory.py:505\u001b[0m, in \u001b[0;36mResourceFactory._create_action.<locals>.do_action\u001b[0;34m(self, *args, **kwargs)\u001b[0m\n\u001b[1;32m    <a href='file:///~/.pyenv/versions/3.9.6/envs/fastapi/lib/python3.9/site-packages/boto3/resources/factory.py?line=503'>504</a>\u001b[0m \u001b[39mdef\u001b[39;00m \u001b[39mdo_action\u001b[39m(\u001b[39mself\u001b[39m, \u001b[39m*\u001b[39margs, \u001b[39m*\u001b[39m\u001b[39m*\u001b[39mkwargs):\n\u001b[0;32m--> <a href='file:///~/.pyenv/versions/3.9.6/envs/fastapi/lib/python3.9/site-packages/boto3/resources/factory.py?line=504'>505</a>\u001b[0m     response \u001b[39m=\u001b[39m action(\u001b[39mself\u001b[39;49m, \u001b[39m*\u001b[39;49margs, \u001b[39m*\u001b[39;49m\u001b[39m*\u001b[39;49mkwargs)\n\u001b[1;32m    <a href='file:///~/.pyenv/versions/3.9.6/envs/fastapi/lib/python3.9/site-packages/boto3/resources/factory.py?line=505'>506</a>\u001b[0m     \u001b[39mself\u001b[39m\u001b[39m.\u001b[39mmeta\u001b[39m.\u001b[39mdata \u001b[39m=\u001b[39m response\n",
      "File \u001b[0;32m~/.pyenv/versions/3.9.6/envs/fastapi/lib/python3.9/site-packages/boto3/resources/action.py:83\u001b[0m, in \u001b[0;36mServiceAction.__call__\u001b[0;34m(self, parent, *args, **kwargs)\u001b[0m\n\u001b[1;32m     <a href='file:///~/.pyenv/versions/3.9.6/envs/fastapi/lib/python3.9/site-packages/boto3/resources/action.py?line=77'>78</a>\u001b[0m params\u001b[39m.\u001b[39mupdate(kwargs)\n\u001b[1;32m     <a href='file:///~/.pyenv/versions/3.9.6/envs/fastapi/lib/python3.9/site-packages/boto3/resources/action.py?line=79'>80</a>\u001b[0m logger\u001b[39m.\u001b[39mdebug(\u001b[39m'\u001b[39m\u001b[39mCalling \u001b[39m\u001b[39m%s\u001b[39;00m\u001b[39m:\u001b[39m\u001b[39m%s\u001b[39;00m\u001b[39m with \u001b[39m\u001b[39m%r\u001b[39;00m\u001b[39m'\u001b[39m, parent\u001b[39m.\u001b[39mmeta\u001b[39m.\u001b[39mservice_name,\n\u001b[1;32m     <a href='file:///~/.pyenv/versions/3.9.6/envs/fastapi/lib/python3.9/site-packages/boto3/resources/action.py?line=80'>81</a>\u001b[0m              operation_name, params)\n\u001b[0;32m---> <a href='file:///~/.pyenv/versions/3.9.6/envs/fastapi/lib/python3.9/site-packages/boto3/resources/action.py?line=82'>83</a>\u001b[0m response \u001b[39m=\u001b[39m \u001b[39mgetattr\u001b[39;49m(parent\u001b[39m.\u001b[39;49mmeta\u001b[39m.\u001b[39;49mclient, operation_name)(\u001b[39m*\u001b[39;49margs, \u001b[39m*\u001b[39;49m\u001b[39m*\u001b[39;49mparams)\n\u001b[1;32m     <a href='file:///~/.pyenv/versions/3.9.6/envs/fastapi/lib/python3.9/site-packages/boto3/resources/action.py?line=84'>85</a>\u001b[0m logger\u001b[39m.\u001b[39mdebug(\u001b[39m'\u001b[39m\u001b[39mResponse: \u001b[39m\u001b[39m%r\u001b[39;00m\u001b[39m'\u001b[39m, response)\n\u001b[1;32m     <a href='file:///~/.pyenv/versions/3.9.6/envs/fastapi/lib/python3.9/site-packages/boto3/resources/action.py?line=86'>87</a>\u001b[0m \u001b[39mreturn\u001b[39;00m \u001b[39mself\u001b[39m\u001b[39m.\u001b[39m_response_handler(parent, params, response)\n",
      "File \u001b[0;32m~/.pyenv/versions/3.9.6/envs/fastapi/lib/python3.9/site-packages/botocore/client.py:391\u001b[0m, in \u001b[0;36mClientCreator._create_api_method.<locals>._api_call\u001b[0;34m(self, *args, **kwargs)\u001b[0m\n\u001b[1;32m    <a href='file:///~/.pyenv/versions/3.9.6/envs/fastapi/lib/python3.9/site-packages/botocore/client.py?line=387'>388</a>\u001b[0m     \u001b[39mraise\u001b[39;00m \u001b[39mTypeError\u001b[39;00m(\n\u001b[1;32m    <a href='file:///~/.pyenv/versions/3.9.6/envs/fastapi/lib/python3.9/site-packages/botocore/client.py?line=388'>389</a>\u001b[0m         \u001b[39m\"\u001b[39m\u001b[39m%s\u001b[39;00m\u001b[39m() only accepts keyword arguments.\u001b[39m\u001b[39m\"\u001b[39m \u001b[39m%\u001b[39m py_operation_name)\n\u001b[1;32m    <a href='file:///~/.pyenv/versions/3.9.6/envs/fastapi/lib/python3.9/site-packages/botocore/client.py?line=389'>390</a>\u001b[0m \u001b[39m# The \"self\" in this scope is referring to the BaseClient.\u001b[39;00m\n\u001b[0;32m--> <a href='file:///~/.pyenv/versions/3.9.6/envs/fastapi/lib/python3.9/site-packages/botocore/client.py?line=390'>391</a>\u001b[0m \u001b[39mreturn\u001b[39;00m \u001b[39mself\u001b[39;49m\u001b[39m.\u001b[39;49m_make_api_call(operation_name, kwargs)\n",
      "File \u001b[0;32m~/.pyenv/versions/3.9.6/envs/fastapi/lib/python3.9/site-packages/botocore/client.py:719\u001b[0m, in \u001b[0;36mBaseClient._make_api_call\u001b[0;34m(self, operation_name, api_params)\u001b[0m\n\u001b[1;32m    <a href='file:///~/.pyenv/versions/3.9.6/envs/fastapi/lib/python3.9/site-packages/botocore/client.py?line=716'>717</a>\u001b[0m     error_code \u001b[39m=\u001b[39m parsed_response\u001b[39m.\u001b[39mget(\u001b[39m\"\u001b[39m\u001b[39mError\u001b[39m\u001b[39m\"\u001b[39m, {})\u001b[39m.\u001b[39mget(\u001b[39m\"\u001b[39m\u001b[39mCode\u001b[39m\u001b[39m\"\u001b[39m)\n\u001b[1;32m    <a href='file:///~/.pyenv/versions/3.9.6/envs/fastapi/lib/python3.9/site-packages/botocore/client.py?line=717'>718</a>\u001b[0m     error_class \u001b[39m=\u001b[39m \u001b[39mself\u001b[39m\u001b[39m.\u001b[39mexceptions\u001b[39m.\u001b[39mfrom_code(error_code)\n\u001b[0;32m--> <a href='file:///~/.pyenv/versions/3.9.6/envs/fastapi/lib/python3.9/site-packages/botocore/client.py?line=718'>719</a>\u001b[0m     \u001b[39mraise\u001b[39;00m error_class(parsed_response, operation_name)\n\u001b[1;32m    <a href='file:///~/.pyenv/versions/3.9.6/envs/fastapi/lib/python3.9/site-packages/botocore/client.py?line=719'>720</a>\u001b[0m \u001b[39melse\u001b[39;00m:\n\u001b[1;32m    <a href='file:///~/.pyenv/versions/3.9.6/envs/fastapi/lib/python3.9/site-packages/botocore/client.py?line=720'>721</a>\u001b[0m     \u001b[39mreturn\u001b[39;00m parsed_response\n",
      "\u001b[0;31mClientError\u001b[0m: An error occurred (404) when calling the HeadObject operation: Not Found"
     ]
    }
   ],
   "source": [
    "obj.load()"
   ]
  },
  {
   "cell_type": "code",
   "execution_count": null,
   "metadata": {},
   "outputs": [],
   "source": []
  }
 ],
 "metadata": {
  "interpreter": {
   "hash": "ce03945f534df3c2032438181be6f0e2f266718a6acd45912069b54d86cae502"
  },
  "kernelspec": {
   "display_name": "Python 3.9.6 64-bit ('fastapi': pyenv)",
   "language": "python",
   "name": "python3"
  },
  "language_info": {
   "codemirror_mode": {
    "name": "ipython",
    "version": 3
   },
   "file_extension": ".py",
   "mimetype": "text/x-python",
   "name": "python",
   "nbconvert_exporter": "python",
   "pygments_lexer": "ipython3",
   "version": "3.9.6"
  },
  "orig_nbformat": 4
 },
 "nbformat": 4,
 "nbformat_minor": 2
}
