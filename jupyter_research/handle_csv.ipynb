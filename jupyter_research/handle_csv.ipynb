{
 "cells": [
  {
   "cell_type": "code",
   "execution_count": 8,
   "metadata": {},
   "outputs": [
    {
     "name": "stdout",
     "output_type": "stream",
     "text": [
      "9791165213190\n",
      "9791158390983\n"
     ]
    }
   ],
   "source": [
    "import csv\n",
    "import re\n",
    "\n",
    "isbn_pattern = re.compile(r\"^\\d{13}$\")\n",
    "\n",
    "with open(\"example.csv\") as csvfile:\n",
    "    csvreader = csv.reader(csvfile)\n",
    "    for row in csvreader:\n",
    "        for col in row:\n",
    "            if isbn_pattern.match(col):\n",
    "                print(col)"
   ]
  }
 ],
 "metadata": {
  "interpreter": {
   "hash": "81bb5bb024ee087e945ba78fd702cae2b2fea2701b6c424a4313e411e10f3bc3"
  },
  "kernelspec": {
   "display_name": "Python 3.9.6 64-bit ('fastapi')",
   "language": "python",
   "name": "python3"
  },
  "language_info": {
   "codemirror_mode": {
    "name": "ipython",
    "version": 3
   },
   "file_extension": ".py",
   "mimetype": "text/x-python",
   "name": "python",
   "nbconvert_exporter": "python",
   "pygments_lexer": "ipython3",
   "version": "3.9.6"
  },
  "orig_nbformat": 4
 },
 "nbformat": 4,
 "nbformat_minor": 2
}
