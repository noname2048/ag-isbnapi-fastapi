{
 "cells": [
  {
   "cell_type": "markdown",
   "id": "22898311-c73e-47bf-845c-7ff67ea8f89d",
   "metadata": {},
   "source": [
    "# 제너레이터와 이터레이터의 차이를 말하시오"
   ]
  },
  {
   "cell_type": "code",
   "execution_count": 18,
   "id": "1ebcfafa-61af-42ac-aa96-69d9674fbfc2",
   "metadata": {},
   "outputs": [],
   "source": [
    "from time import sleep"
   ]
  },
  {
   "cell_type": "code",
   "execution_count": 19,
   "id": "f1ab26ca-03c9-4ab9-b890-e561d0040496",
   "metadata": {},
   "outputs": [],
   "source": [
    "class Fib:\n",
    "    \"\"\" https://engineer-mole.tistory.com/64\n",
    "    클래스는 __iter__ 를 구현하되 자기 자신(self)을 반환해야 한다.\n",
    "    클래스는 __next__ 메소드를 구현해서 Iterator를 next 내장 함수의 인자로 줬을 때 다음에 반환할 값을 정의해야 한다.\n",
    "    Iterator가 더 이상 반환할 값이 없는 경우는 __next__ 메소드에서 StopIteration 예외를 일으키도록 한다.\n",
    "    \"\"\"\n",
    "    def __init__(self):\n",
    "        self.a = 0\n",
    "        self.b = 1\n",
    "        self.c = 1\n",
    "        self.i = 1\n",
    "        \n",
    "    def __iter__(self):\n",
    "        return self\n",
    "    \n",
    "    def __next__(self):\n",
    "        self.i += 1\n",
    "        \n",
    "        if self.i > 5:\n",
    "            raise StopIteration\n",
    "        else:\n",
    "            print(\"z\", end=\"\")\n",
    "            sleep(1.0)\n",
    "            print(\"ZZ\")\n",
    "            print(\"iter!\")\n",
    "            self.a, self.b = self.b, self.a + self.b\n",
    "            return self.a"
   ]
  },
  {
   "cell_type": "code",
   "execution_count": 20,
   "id": "5616929b-9126-4deb-be58-9409aa55e286",
   "metadata": {},
   "outputs": [],
   "source": [
    "def fib():\n",
    "    \"\"\"\n",
    "    \"\"\"\n",
    "    a, b, c = 0, 1, 1\n",
    "    for i in range(5):\n",
    "        print(\"z\", end=\"\")\n",
    "        sleep(1.0)\n",
    "        print(\"ZZ\")\n",
    "        print(\"gen!\")\n",
    "        yield b\n",
    "        a, b = b, a + b\n",
    "    raise StopIteration\n"
   ]
  },
  {
   "cell_type": "code",
   "execution_count": 21,
   "id": "59fce124-1cf0-4339-b818-dc0cce7c942f",
   "metadata": {},
   "outputs": [
    {
     "name": "stdout",
     "output_type": "stream",
     "text": [
      "zZZ\n",
      "gen!\n"
     ]
    },
    {
     "data": {
      "text/plain": [
       "1"
      ]
     },
     "execution_count": 21,
     "metadata": {},
     "output_type": "execute_result"
    }
   ],
   "source": [
    "f = fib()\n",
    "next(f)"
   ]
  },
  {
   "cell_type": "code",
   "execution_count": 22,
   "id": "714be5e4-6138-459c-bd55-b138ac81a7c9",
   "metadata": {},
   "outputs": [
    {
     "name": "stdout",
     "output_type": "stream",
     "text": [
      "zZZ\n",
      "iter!\n"
     ]
    },
    {
     "data": {
      "text/plain": [
       "1"
      ]
     },
     "execution_count": 22,
     "metadata": {},
     "output_type": "execute_result"
    }
   ],
   "source": [
    "k = Fib()\n",
    "next(k)"
   ]
  },
  {
   "cell_type": "code",
   "execution_count": 27,
   "id": "3ba4576d-1573-41ed-ac8f-14524e651110",
   "metadata": {},
   "outputs": [
    {
     "name": "stdout",
     "output_type": "stream",
     "text": [
      "zZZ\n",
      "gen!\n",
      "zZZ\n",
      "gen!\n",
      "zZZ\n",
      "gen!\n",
      "zZZ\n",
      "gen!\n",
      "zZZ\n",
      "gen!\n"
     ]
    },
    {
     "data": {
      "text/plain": [
       "[1, 1, 2, 3, 5]"
      ]
     },
     "execution_count": 27,
     "metadata": {},
     "output_type": "execute_result"
    }
   ],
   "source": [
    "from itertools import islice\n",
    "\n",
    "list(islice(fib(), 0, 5))"
   ]
  },
  {
   "cell_type": "code",
   "execution_count": 28,
   "id": "f9769d77-f54f-4f76-b7d9-0bb5b115fc89",
   "metadata": {},
   "outputs": [
    {
     "name": "stdout",
     "output_type": "stream",
     "text": [
      "zZZ\n",
      "iter!\n",
      "zZZ\n",
      "iter!\n",
      "zZZ\n",
      "iter!\n"
     ]
    },
    {
     "data": {
      "text/plain": [
       "[1, 2, 3]"
      ]
     },
     "execution_count": 28,
     "metadata": {},
     "output_type": "execute_result"
    }
   ],
   "source": [
    "list(k)"
   ]
  },
  {
   "cell_type": "code",
   "execution_count": 30,
   "id": "26d451ae-cef9-4d32-a1ac-c18386f49816",
   "metadata": {},
   "outputs": [
    {
     "data": {
      "text/plain": [
       "<__main__.Fib at 0x7fca78521a90>"
      ]
     },
     "execution_count": 30,
     "metadata": {},
     "output_type": "execute_result"
    }
   ],
   "source": []
  },
  {
   "cell_type": "code",
   "execution_count": 27,
   "id": "26206fa4-ee58-4700-b0f0-49d5623e7208",
   "metadata": {},
   "outputs": [
    {
     "ename": "TypeError",
     "evalue": "'Fib' object is not subscriptable",
     "output_type": "error",
     "traceback": [
      "\u001b[0;31m---------------------------------------------------------------------------\u001b[0m",
      "\u001b[0;31mTypeError\u001b[0m                                 Traceback (most recent call last)",
      "\u001b[0;32m/tmp/ipykernel_16474/215023119.py\u001b[0m in \u001b[0;36m<module>\u001b[0;34m\u001b[0m\n\u001b[0;32m----> 1\u001b[0;31m \u001b[0;34m[\u001b[0m\u001b[0mf\u001b[0m\u001b[0;34m[\u001b[0m\u001b[0;36m1\u001b[0m\u001b[0;34m]\u001b[0m\u001b[0;34m]\u001b[0m\u001b[0;34m\u001b[0m\u001b[0;34m\u001b[0m\u001b[0m\n\u001b[0m",
      "\u001b[0;31mTypeError\u001b[0m: 'Fib' object is not subscriptable"
     ]
    }
   ],
   "source": [
    "[f[1]]"
   ]
  },
  {
   "cell_type": "code",
   "execution_count": null,
   "id": "9bf62294-6c77-43a7-9678-0418e213ae6a",
   "metadata": {},
   "outputs": [],
   "source": []
  }
 ],
 "metadata": {
  "kernelspec": {
   "display_name": "Python 3 (ipykernel)",
   "language": "python",
   "name": "python3"
  },
  "language_info": {
   "codemirror_mode": {
    "name": "ipython",
    "version": 3
   },
   "file_extension": ".py",
   "mimetype": "text/x-python",
   "name": "python",
   "nbconvert_exporter": "python",
   "pygments_lexer": "ipython3",
   "version": "3.9.6"
  }
 },
 "nbformat": 4,
 "nbformat_minor": 5
}
