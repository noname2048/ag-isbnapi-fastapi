{
 "cells": [
  {
   "cell_type": "code",
   "execution_count": 1,
   "id": "b45b0f33-d2f8-4332-a969-42727c6d575b",
   "metadata": {},
   "outputs": [],
   "source": [
    "import os\n",
    "from dotenv import load_dotenv"
   ]
  },
  {
   "cell_type": "code",
   "execution_count": 2,
   "id": "9063354b-2fa2-4b3f-9bc5-d333e9cc4065",
   "metadata": {},
   "outputs": [
    {
     "data": {
      "text/plain": [
       "True"
      ]
     },
     "execution_count": 2,
     "metadata": {},
     "output_type": "execute_result"
    }
   ],
   "source": [
    "load_dotenv()"
   ]
  },
  {
   "cell_type": "code",
   "execution_count": 3,
   "id": "f83c12ae-5378-4d4c-84fa-b60aad27d108",
   "metadata": {},
   "outputs": [],
   "source": [
    "url = \"http://www.aladin.co.kr/ttb/api/ItemLookUp.aspx\"\n",
    "ttbkey = os.environ[\"ttbkey\"]"
   ]
  },
  {
   "cell_type": "code",
   "execution_count": 4,
   "id": "a200ca18-cf16-4c9e-9218-539089db1d63",
   "metadata": {},
   "outputs": [],
   "source": [
    "import requests"
   ]
  },
  {
   "cell_type": "code",
   "execution_count": 5,
   "id": "10d8afb8-9fb5-4da9-8fa5-8ddebc326ad5",
   "metadata": {},
   "outputs": [],
   "source": [
    "isbn_type = \"ISBN13\"\n",
    "isbn_str = \"9791158392239\""
   ]
  },
  {
   "cell_type": "code",
   "execution_count": 52,
   "id": "3d7fa7be-5df2-457e-8ef9-12dc262a1539",
   "metadata": {},
   "outputs": [],
   "source": [
    "isbn_type = \"ISBN\"\n",
    "isbn_str = \"k622633024\""
   ]
  },
  {
   "cell_type": "code",
   "execution_count": 53,
   "id": "e05a54c9-9e98-4a0b-9bd3-64a2c55a1d74",
   "metadata": {},
   "outputs": [],
   "source": [
    "res: requests.Response = requests.post(\n",
    "        url,\n",
    "        data={\n",
    "            \"TTBKey\": ttbkey,\n",
    "            \"itemIdType\": isbn_type,\n",
    "            \"ItemId\": isbn_str,\n",
    "            \"Cover\": \"Big\",\n",
    "            \"output\": \"js\"\n",
    "        },\n",
    "    )"
   ]
  },
  {
   "cell_type": "code",
   "execution_count": 54,
   "id": "f95433c0-9fee-407c-8d65-85bdc7512af2",
   "metadata": {},
   "outputs": [
    {
     "data": {
      "text/plain": [
       "200"
      ]
     },
     "execution_count": 54,
     "metadata": {},
     "output_type": "execute_result"
    }
   ],
   "source": [
    "res.status_code"
   ]
  },
  {
   "cell_type": "code",
   "execution_count": 55,
   "id": "d3b15497-ab4c-43c9-b607-3ba69e342981",
   "metadata": {},
   "outputs": [
    {
     "data": {
      "text/plain": [
       "{'Cache-Control': 'private', 'Content-Type': 'text/plain; charset=utf-8', 'Content-Encoding': 'gzip', 'Vary': 'Accept-Encoding', 'Server': 'Microsoft-IIS/7.5', 'Set-Cookie': 'AladdinUS=ZKrK%2boUzjBg%3d&USA=1; domain=aladin.co.kr; expires=Wed, 05-Jun-2041 00:46:53 GMT; path=/', 'X-Powered-By': 'ASP.NET', 'P3P': \"CP='CAO PSA CONi OTR OUR DEM ONL'\", 'Date': 'Sat, 05 Jun 2021 00:46:53 GMT', 'Content-Length': '2563'}"
      ]
     },
     "execution_count": 55,
     "metadata": {},
     "output_type": "execute_result"
    }
   ],
   "source": [
    "res.headers"
   ]
  },
  {
   "cell_type": "code",
   "execution_count": 12,
   "id": "8fb2fb85-19c1-4120-a959-996145451637",
   "metadata": {},
   "outputs": [],
   "source": [
    "import json"
   ]
  },
  {
   "cell_type": "code",
   "execution_count": 14,
   "id": "477ed721-bfaf-4ba1-be34-48bb87561958",
   "metadata": {},
   "outputs": [],
   "source": [
    "import re"
   ]
  },
  {
   "cell_type": "code",
   "execution_count": 38,
   "id": "64ae019c-3deb-4109-b027-2d0b44832958",
   "metadata": {},
   "outputs": [],
   "source": [
    "c = json.loads(res.text[:-1])"
   ]
  },
  {
   "cell_type": "code",
   "execution_count": 40,
   "id": "bfc4871d-07b4-470d-a464-8e1f69088549",
   "metadata": {},
   "outputs": [
    {
     "data": {
      "text/plain": [
       "'20070901'"
      ]
     },
     "execution_count": 40,
     "metadata": {},
     "output_type": "execute_result"
    }
   ],
   "source": [
    "c['version']"
   ]
  },
  {
   "cell_type": "code",
   "execution_count": 56,
   "id": "2429d8cf-5140-4c18-9934-a580dfbcd575",
   "metadata": {},
   "outputs": [
    {
     "data": {
      "text/plain": [
       "'{ \"version\" : \"20070901\", \"title\" : \"알라딘 상품정보 - 2021 기분파 지게차 운전기능사 필기\", \"link\" : \"https:\\\\/\\\\/www.aladin.co.kr\\\\/shop\\\\/wproduct.aspx?ItemId=255007466\", \"pubDate\" : \"Sat, 05 Jun 2021 00:46:54 GMT\", \"imageUrl\" : \"http:\\\\/\\\\/www.aladin.co.kr\\\\/ucl_editor\\\\/img_secur\\\\/header\\\\/2010\\\\/logo.jpg\", \"totalResults\" : 1, \"startIndex\" : 1, \"itemsPerPage\" : 1, \"query\" : \"isbn=K622633024\", \"searchCategoryId\" : 0, \"searchCategoryName\" : \"\", \"item\" : [  { \"title\" : \"2021 기분파 지게차 운전기능사 필기 - 전면 개정된 새 출제기준 반영 + 최신법령 반영 + 도로명주소 출제기준 포함 + 실기코스 및 작업요령수록(카페무료동영상 제공) + 쪽집게 192선 수록\", \"link\" : \"http:\\\\/\\\\/www.aladin.co.kr\\\\/shop\\\\/wproduct.aspx?ItemId=255007466&amp;copyPaper=1&amp;ttbkey=ttbchltjddnrwkd1525001&amp;start=api\", \"author\" : \"에듀웨이 R&amp;D 연구소 지음\", \"pubDate\" : \"2021-04-24\", \"description\" : \"NCS에 기반한 새로운 출제기준을 완벽하게 반영한 수험서다. 지게차와 관련된 용어 및 이론을 보다 쉬운 설명과 이미지로 설명하였으며, 시험에 나오지 않는 부분은 과감하게 정리하여 필요 없는 학습의 양을 대폭 줄일 수 있도록 구성하였다.\", \"creator\" : \"aladin\", \"isbn\" : \"K622633024\", \"isbn13\" : \"9791186179420\", \"itemId\" : 255007466, \"priceSales\" : 12600, \"priceStandard\" : 14000, \"stockStatus\" : \"\", \"mileage\" : 61, \"cover\":\"https:\\\\/\\\\/image.aladin.co.kr\\\\/product\\\\/25500\\\\/74\\\\/cover\\\\/k622633024_1.jpg\", \"categoryId\" : 34933, \"categoryName\" : \"국내도서>수험서/자격증>산업인력관리공단>기계분야>중장비 운전기능사\", \"publisher\":\"에듀웨이(주)\", \"customerReviewRank\":7 , \"bookinfo\":{ \"subTitle\":\"전면 개정된 새 출제기준 반영 + 최신법령 반영 + 도로명주소 출제기준 포함 + 실기코스 및 작업요령수록(카페무료동영상 제공) + 쪽집게 192선 수록\", \"originalTitle\":\"\", \"itemPage\":336, \"toc\":\"<p>▣ 머리말<BR>\\\\n▣ 출제기준표<BR>\\\\n▣ 필기응시절차<BR>\\\\n▣ 이 책의 구성<BR>\\\\n▣ 지게차의 구조 및 지게차운전기능사 실기 코스·작업요령<BR>\\\\n<BR>\\\\n<B>제 1 장 안전관리</B><BR>\\\\n01 산업안전과 안전관리<BR>\\\\n02 안전보호구 및 안전장치<BR>\\\\n03 위험요소 확인<BR>\\\\n04 안전표지<BR>\\\\n05 안전운반 작업<BR>\\\\n06 장비 안전관리 및 기계, 기구, 공구<BR>\\\\n<BR>\\\\n<B>제 2 장 작업 전·후 점검</B><BR>\\\\n01 작업 전 점검<BR>\\\\n02 작업 후 점검<BR>\\\\n<BR>\\\\n<B>제 3 장 화물적재, 운반, 하역작업</B><BR>\\\\n01 화물적재 및 하역작업<BR>\\\\n02 화물운반작업<BR>\\\\n03 안전운전 및 장비의 확인<BR>\\\\n<BR>\\\\n<B>제 4 장 도로주행</B><BR>\\\\n01 건설기계 관리법<BR>\\\\n02 도로교통법<BR>\\\\n03 고장 시 응급처치<BR>\\\\n<BR>\\\\n<B>제 5 장 엔진구조 익히기</B><BR>\\\\n01 기관(엔진) 주요부<BR>\\\\n02 냉각장치<BR>\\\\n03 윤활장치<BR>\\\\n04 연료장치<BR>\\\\n05 흡배기장치<BR>\\\\n<BR>\\\\n<B>제 6 장 전기장치 익히기</B><BR>\\\\n01 전기의 기초<BR>\\\\n02 축전지<BR>\\\\n03 시동장치<BR>\\\\n04 충전장치<BR>\\\\n05 등화 및 냉난방 장치<BR>\\\\n<BR>\\\\n<B>제 7 장 전·후진 주행장치 익히기</B><BR>\\\\n01 동력전달장치<BR>\\\\n02 조향장치<BR>\\\\n03 제동장치<BR>\\\\n<BR>\\\\n<B>제 8 장 작업장치 익히기</B><BR>\\\\n01 지게차의 작업장치<BR>\\\\n02 지게차의 제원 및 관련용어<BR>\\\\n03 지게차의 구조와 분류<BR>\\\\n<BR>\\\\n<B>제 9 장 유압장치 익히기</B><BR>\\\\n01 유압 일반<BR>\\\\n02 유압기기<BR>\\\\n03 부속기기<BR>\\\\n04 유압유<BR>\\\\n05 유압회로<BR>\\\\n<BR>\\\\n<B>제 10 장 상시대비 모의고사</B><BR>\\\\n01 상시대비 모의고사 1회<BR>\\\\n02 상시대비 모의고사 2회<BR>\\\\n03 상시대비 모의고사 3회<BR>\\\\n04 상시대비 모의고사 4회<BR>\\\\n05 상시대비 모의고사 5회<BR>\\\\n06 상시대비 모의고사 6회<BR>\\\\n07 상시대비 모의고사 7회<BR>\\\\n<BR>\\\\n▣ 부록 1 도로명 주소<BR>\\\\n▣ 부록 2 시험에 자주 나오는 족집게 192선</p>\", \"letslookimg\":[\"https://image.aladin.co.kr/product/25500/74/letslook/K622633024_fs.jpg\"], \"authors\":[{\"authorType\":\"author\", \"authorid\":2771200, \"desc\":\"지은이\", \"name\":\"㈜에듀웨이 R&D 연구소\"}], \"ebookList\":[] }  } ] }'"
      ]
     },
     "execution_count": 56,
     "metadata": {},
     "output_type": "execute_result"
    }
   ],
   "source": [
    "res.text[:-1]"
   ]
  },
  {
   "cell_type": "code",
   "execution_count": 57,
   "id": "2f0e0816-e474-421e-b6f0-3e889bc8ed09",
   "metadata": {},
   "outputs": [
    {
     "ename": "JSONDecodeError",
     "evalue": "Extra data: line 1 column 14 (char 13)",
     "output_type": "error",
     "traceback": [
      "\u001b[0;31m---------------------------------------------------------------------------\u001b[0m",
      "\u001b[0;31mJSONDecodeError\u001b[0m                           Traceback (most recent call last)",
      "\u001b[0;32m<ipython-input-57-74a66fa7629c>\u001b[0m in \u001b[0;36m<module>\u001b[0;34m\u001b[0m\n\u001b[0;32m----> 1\u001b[0;31m \u001b[0mb\u001b[0m \u001b[0;34m=\u001b[0m \u001b[0mjson\u001b[0m\u001b[0;34m.\u001b[0m\u001b[0mloads\u001b[0m\u001b[0;34m(\u001b[0m\u001b[0;34m'{\"hi\": \"hey\"};'\u001b[0m\u001b[0;34m.\u001b[0m\u001b[0mencode\u001b[0m\u001b[0;34m(\u001b[0m\u001b[0;34m\"unicode_escape\"\u001b[0m\u001b[0;34m)\u001b[0m\u001b[0;34m)\u001b[0m\u001b[0;34m\u001b[0m\u001b[0;34m\u001b[0m\u001b[0m\n\u001b[0m",
      "\u001b[0;32m~/.pyenv/versions/3.8.8/lib/python3.8/json/__init__.py\u001b[0m in \u001b[0;36mloads\u001b[0;34m(s, cls, object_hook, parse_float, parse_int, parse_constant, object_pairs_hook, **kw)\u001b[0m\n\u001b[1;32m    355\u001b[0m             \u001b[0mparse_int\u001b[0m \u001b[0;32mis\u001b[0m \u001b[0;32mNone\u001b[0m \u001b[0;32mand\u001b[0m \u001b[0mparse_float\u001b[0m \u001b[0;32mis\u001b[0m \u001b[0;32mNone\u001b[0m \u001b[0;32mand\u001b[0m\u001b[0;34m\u001b[0m\u001b[0;34m\u001b[0m\u001b[0m\n\u001b[1;32m    356\u001b[0m             parse_constant is None and object_pairs_hook is None and not kw):\n\u001b[0;32m--> 357\u001b[0;31m         \u001b[0;32mreturn\u001b[0m \u001b[0m_default_decoder\u001b[0m\u001b[0;34m.\u001b[0m\u001b[0mdecode\u001b[0m\u001b[0;34m(\u001b[0m\u001b[0ms\u001b[0m\u001b[0;34m)\u001b[0m\u001b[0;34m\u001b[0m\u001b[0;34m\u001b[0m\u001b[0m\n\u001b[0m\u001b[1;32m    358\u001b[0m     \u001b[0;32mif\u001b[0m \u001b[0mcls\u001b[0m \u001b[0;32mis\u001b[0m \u001b[0;32mNone\u001b[0m\u001b[0;34m:\u001b[0m\u001b[0;34m\u001b[0m\u001b[0;34m\u001b[0m\u001b[0m\n\u001b[1;32m    359\u001b[0m         \u001b[0mcls\u001b[0m \u001b[0;34m=\u001b[0m \u001b[0mJSONDecoder\u001b[0m\u001b[0;34m\u001b[0m\u001b[0;34m\u001b[0m\u001b[0m\n",
      "\u001b[0;32m~/.pyenv/versions/3.8.8/lib/python3.8/json/decoder.py\u001b[0m in \u001b[0;36mdecode\u001b[0;34m(self, s, _w)\u001b[0m\n\u001b[1;32m    338\u001b[0m         \u001b[0mend\u001b[0m \u001b[0;34m=\u001b[0m \u001b[0m_w\u001b[0m\u001b[0;34m(\u001b[0m\u001b[0ms\u001b[0m\u001b[0;34m,\u001b[0m \u001b[0mend\u001b[0m\u001b[0;34m)\u001b[0m\u001b[0;34m.\u001b[0m\u001b[0mend\u001b[0m\u001b[0;34m(\u001b[0m\u001b[0;34m)\u001b[0m\u001b[0;34m\u001b[0m\u001b[0;34m\u001b[0m\u001b[0m\n\u001b[1;32m    339\u001b[0m         \u001b[0;32mif\u001b[0m \u001b[0mend\u001b[0m \u001b[0;34m!=\u001b[0m \u001b[0mlen\u001b[0m\u001b[0;34m(\u001b[0m\u001b[0ms\u001b[0m\u001b[0;34m)\u001b[0m\u001b[0;34m:\u001b[0m\u001b[0;34m\u001b[0m\u001b[0;34m\u001b[0m\u001b[0m\n\u001b[0;32m--> 340\u001b[0;31m             \u001b[0;32mraise\u001b[0m \u001b[0mJSONDecodeError\u001b[0m\u001b[0;34m(\u001b[0m\u001b[0;34m\"Extra data\"\u001b[0m\u001b[0;34m,\u001b[0m \u001b[0ms\u001b[0m\u001b[0;34m,\u001b[0m \u001b[0mend\u001b[0m\u001b[0;34m)\u001b[0m\u001b[0;34m\u001b[0m\u001b[0;34m\u001b[0m\u001b[0m\n\u001b[0m\u001b[1;32m    341\u001b[0m         \u001b[0;32mreturn\u001b[0m \u001b[0mobj\u001b[0m\u001b[0;34m\u001b[0m\u001b[0;34m\u001b[0m\u001b[0m\n\u001b[1;32m    342\u001b[0m \u001b[0;34m\u001b[0m\u001b[0m\n",
      "\u001b[0;31mJSONDecodeError\u001b[0m: Extra data: line 1 column 14 (char 13)"
     ]
    }
   ],
   "source": [
    "b = json.loads('{\"hi\": \"hey\"};'.encode(\"unicode_escape\"))"
   ]
  },
  {
   "cell_type": "code",
   "execution_count": 58,
   "id": "85d3a4f9-48ef-464b-81ef-794fb2bc9b96",
   "metadata": {},
   "outputs": [],
   "source": [
    "if re.findall(\"(errorCode|errorMessage)\", res.text):\n",
    "    print(\"a\")"
   ]
  },
  {
   "cell_type": "code",
   "execution_count": 60,
   "id": "30339a8e-9fa6-43c3-8664-19f9503f5781",
   "metadata": {},
   "outputs": [
    {
     "ename": "JSONDecodeError",
     "evalue": "Extra data: line 1 column 2860 (char 2859)",
     "output_type": "error",
     "traceback": [
      "\u001b[0;31m---------------------------------------------------------------------------\u001b[0m",
      "\u001b[0;31mJSONDecodeError\u001b[0m                           Traceback (most recent call last)",
      "\u001b[0;32m<ipython-input-60-5990537c6b86>\u001b[0m in \u001b[0;36m<module>\u001b[0;34m\u001b[0m\n\u001b[0;32m----> 1\u001b[0;31m \u001b[0mres\u001b[0m\u001b[0;34m.\u001b[0m\u001b[0mjson\u001b[0m\u001b[0;34m(\u001b[0m\u001b[0;34m)\u001b[0m\u001b[0;34m\u001b[0m\u001b[0;34m\u001b[0m\u001b[0m\n\u001b[0m",
      "\u001b[0;32m~/.pyenv/versions/web-fastapi/lib/python3.8/site-packages/requests/models.py\u001b[0m in \u001b[0;36mjson\u001b[0;34m(self, **kwargs)\u001b[0m\n\u001b[1;32m    898\u001b[0m                     \u001b[0;31m# used.\u001b[0m\u001b[0;34m\u001b[0m\u001b[0;34m\u001b[0m\u001b[0;34m\u001b[0m\u001b[0m\n\u001b[1;32m    899\u001b[0m                     \u001b[0;32mpass\u001b[0m\u001b[0;34m\u001b[0m\u001b[0;34m\u001b[0m\u001b[0m\n\u001b[0;32m--> 900\u001b[0;31m         \u001b[0;32mreturn\u001b[0m \u001b[0mcomplexjson\u001b[0m\u001b[0;34m.\u001b[0m\u001b[0mloads\u001b[0m\u001b[0;34m(\u001b[0m\u001b[0mself\u001b[0m\u001b[0;34m.\u001b[0m\u001b[0mtext\u001b[0m\u001b[0;34m,\u001b[0m \u001b[0;34m**\u001b[0m\u001b[0mkwargs\u001b[0m\u001b[0;34m)\u001b[0m\u001b[0;34m\u001b[0m\u001b[0;34m\u001b[0m\u001b[0m\n\u001b[0m\u001b[1;32m    901\u001b[0m \u001b[0;34m\u001b[0m\u001b[0m\n\u001b[1;32m    902\u001b[0m     \u001b[0;34m@\u001b[0m\u001b[0mproperty\u001b[0m\u001b[0;34m\u001b[0m\u001b[0;34m\u001b[0m\u001b[0m\n",
      "\u001b[0;32m~/.pyenv/versions/3.8.8/lib/python3.8/json/__init__.py\u001b[0m in \u001b[0;36mloads\u001b[0;34m(s, cls, object_hook, parse_float, parse_int, parse_constant, object_pairs_hook, **kw)\u001b[0m\n\u001b[1;32m    355\u001b[0m             \u001b[0mparse_int\u001b[0m \u001b[0;32mis\u001b[0m \u001b[0;32mNone\u001b[0m \u001b[0;32mand\u001b[0m \u001b[0mparse_float\u001b[0m \u001b[0;32mis\u001b[0m \u001b[0;32mNone\u001b[0m \u001b[0;32mand\u001b[0m\u001b[0;34m\u001b[0m\u001b[0;34m\u001b[0m\u001b[0m\n\u001b[1;32m    356\u001b[0m             parse_constant is None and object_pairs_hook is None and not kw):\n\u001b[0;32m--> 357\u001b[0;31m         \u001b[0;32mreturn\u001b[0m \u001b[0m_default_decoder\u001b[0m\u001b[0;34m.\u001b[0m\u001b[0mdecode\u001b[0m\u001b[0;34m(\u001b[0m\u001b[0ms\u001b[0m\u001b[0;34m)\u001b[0m\u001b[0;34m\u001b[0m\u001b[0;34m\u001b[0m\u001b[0m\n\u001b[0m\u001b[1;32m    358\u001b[0m     \u001b[0;32mif\u001b[0m \u001b[0mcls\u001b[0m \u001b[0;32mis\u001b[0m \u001b[0;32mNone\u001b[0m\u001b[0;34m:\u001b[0m\u001b[0;34m\u001b[0m\u001b[0;34m\u001b[0m\u001b[0m\n\u001b[1;32m    359\u001b[0m         \u001b[0mcls\u001b[0m \u001b[0;34m=\u001b[0m \u001b[0mJSONDecoder\u001b[0m\u001b[0;34m\u001b[0m\u001b[0;34m\u001b[0m\u001b[0m\n",
      "\u001b[0;32m~/.pyenv/versions/3.8.8/lib/python3.8/json/decoder.py\u001b[0m in \u001b[0;36mdecode\u001b[0;34m(self, s, _w)\u001b[0m\n\u001b[1;32m    338\u001b[0m         \u001b[0mend\u001b[0m \u001b[0;34m=\u001b[0m \u001b[0m_w\u001b[0m\u001b[0;34m(\u001b[0m\u001b[0ms\u001b[0m\u001b[0;34m,\u001b[0m \u001b[0mend\u001b[0m\u001b[0;34m)\u001b[0m\u001b[0;34m.\u001b[0m\u001b[0mend\u001b[0m\u001b[0;34m(\u001b[0m\u001b[0;34m)\u001b[0m\u001b[0;34m\u001b[0m\u001b[0;34m\u001b[0m\u001b[0m\n\u001b[1;32m    339\u001b[0m         \u001b[0;32mif\u001b[0m \u001b[0mend\u001b[0m \u001b[0;34m!=\u001b[0m \u001b[0mlen\u001b[0m\u001b[0;34m(\u001b[0m\u001b[0ms\u001b[0m\u001b[0;34m)\u001b[0m\u001b[0;34m:\u001b[0m\u001b[0;34m\u001b[0m\u001b[0;34m\u001b[0m\u001b[0m\n\u001b[0;32m--> 340\u001b[0;31m             \u001b[0;32mraise\u001b[0m \u001b[0mJSONDecodeError\u001b[0m\u001b[0;34m(\u001b[0m\u001b[0;34m\"Extra data\"\u001b[0m\u001b[0;34m,\u001b[0m \u001b[0ms\u001b[0m\u001b[0;34m,\u001b[0m \u001b[0mend\u001b[0m\u001b[0;34m)\u001b[0m\u001b[0;34m\u001b[0m\u001b[0;34m\u001b[0m\u001b[0m\n\u001b[0m\u001b[1;32m    341\u001b[0m         \u001b[0;32mreturn\u001b[0m \u001b[0mobj\u001b[0m\u001b[0;34m\u001b[0m\u001b[0;34m\u001b[0m\u001b[0m\n\u001b[1;32m    342\u001b[0m \u001b[0;34m\u001b[0m\u001b[0m\n",
      "\u001b[0;31mJSONDecodeError\u001b[0m: Extra data: line 1 column 2860 (char 2859)"
     ]
    }
   ],
   "source": [
    "res.json()"
   ]
  },
  {
   "cell_type": "code",
   "execution_count": 61,
   "id": "9daf77ce-de64-49c7-a453-c68349886f2d",
   "metadata": {},
   "outputs": [],
   "source": [
    "c = json.loads(res.text[:-1])"
   ]
  },
  {
   "cell_type": "code",
   "execution_count": 66,
   "id": "41c7f531-331c-4a43-a3c2-3db277d94420",
   "metadata": {},
   "outputs": [],
   "source": [
    "d = c['item'][0]"
   ]
  },
  {
   "cell_type": "code",
   "execution_count": 67,
   "id": "7df41a7b-b2de-4057-9137-cdd2a0388c92",
   "metadata": {},
   "outputs": [
    {
     "data": {
      "text/plain": [
       "'https://image.aladin.co.kr/product/25500/74/cover/k622633024_1.jpg'"
      ]
     },
     "execution_count": 67,
     "metadata": {},
     "output_type": "execute_result"
    }
   ],
   "source": [
    "d['cover']"
   ]
  },
  {
   "cell_type": "code",
   "execution_count": 69,
   "id": "02155044-5136-4c90-b741-1398dd5ef411",
   "metadata": {},
   "outputs": [
    {
     "data": {
      "text/plain": [
       "'9791186179420'"
      ]
     },
     "execution_count": 69,
     "metadata": {},
     "output_type": "execute_result"
    }
   ],
   "source": [
    "d['isbn13']"
   ]
  },
  {
   "cell_type": "code",
   "execution_count": null,
   "id": "89273ff5-eb0f-436a-823f-02f1105cdd5d",
   "metadata": {},
   "outputs": [],
   "source": []
  }
 ],
 "metadata": {
  "kernelspec": {
   "display_name": "Python 3",
   "language": "python",
   "name": "python3"
  },
  "language_info": {
   "codemirror_mode": {
    "name": "ipython",
    "version": 3
   },
   "file_extension": ".py",
   "mimetype": "text/x-python",
   "name": "python",
   "nbconvert_exporter": "python",
   "pygments_lexer": "ipython3",
   "version": "3.8.8"
  }
 },
 "nbformat": 4,
 "nbformat_minor": 5
}
