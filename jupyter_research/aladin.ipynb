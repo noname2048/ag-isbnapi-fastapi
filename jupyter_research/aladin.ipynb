{
 "cells": [
  {
   "cell_type": "code",
   "execution_count": 5,
   "metadata": {},
   "outputs": [
    {
     "name": "stdout",
     "output_type": "stream",
     "text": [
      "/Users/sungwook/Desktop/web/ag-isbnapi-fastapi/jupyter_research\n"
     ]
    }
   ],
   "source": [
    "# 현재 노트북의 위치 확인\n",
    "import os\n",
    "from pathlib import Path\n",
    "CURRENT_DIR = Path(os.getcwd())\n",
    "print(CURRENT_DIR)"
   ]
  },
  {
   "cell_type": "code",
   "execution_count": 15,
   "id": "b45b0f33-d2f8-4332-a969-42727c6d575b",
   "metadata": {},
   "outputs": [],
   "source": [
    "# env 파일에서 ttb key 정보 가지고 오기\n",
    "from dotenv import dotenv_values\n",
    "config = dotenv_values(CURRENT_DIR.parent / \".env\")\n",
    "ALADIN_TTB_KEY=config[\"ALADIN_TTB_KEY\"]"
   ]
  },
  {
   "cell_type": "code",
   "execution_count": 16,
   "id": "f83c12ae-5378-4d4c-84fa-b60aad27d108",
   "metadata": {},
   "outputs": [],
   "source": [
    "# 아래 코드에서 사용될 API 요청주소와 필요한 TTB 값\n",
    "url = \"http://www.aladin.co.kr/ttb/api/ItemLookUp.aspx\"\n",
    "ttbkey = ALADIN_TTB_KEY"
   ]
  },
  {
   "cell_type": "code",
   "execution_count": 17,
   "id": "10d8afb8-9fb5-4da9-8fa5-8ddebc326ad5",
   "metadata": {},
   "outputs": [],
   "source": [
    "# 서재정보\n",
    "# 모던 자바스크립트 Deep Dive\n",
    "book_example1 = {\n",
    "    \"isbn_type\": \"ISBN13\",\n",
    "    \"isbn_str\": \"9791158392239\",\n",
    "}\n",
    "# 2021 기분파 지게차 운전기능사 필기\n",
    "book_example2 = {\n",
    "    \"isbn_type\": \"ISBN\",\n",
    "    \"isbn_str\": \"k622633024\",\n",
    "}"
   ]
  },
  {
   "cell_type": "code",
   "execution_count": 19,
   "id": "a200ca18-cf16-4c9e-9218-539089db1d63",
   "metadata": {},
   "outputs": [],
   "source": [
    "import requests\n",
    "from typing import Dict\n",
    "\n",
    "\n",
    "def get_response(isbn_type, isbn_str):\n",
    "    \"\"\"isbn_type과 isbn_str이 담긴 dict를 받아 api response를 리턴\"\"\"\n",
    "    res = requests.post(\n",
    "        url,\n",
    "        data = {\n",
    "            \"TTBKey\": ttbkey,\n",
    "            \"itemIdType\": isbn_type,\n",
    "            \"ItemId\": isbn_str,\n",
    "            \"Cover\": \"Big\",\n",
    "            \"output\": \"js\"\n",
    "        },\n",
    "    )\n",
    "\n",
    "    return res"
   ]
  },
  {
   "cell_type": "code",
   "execution_count": 70,
   "id": "e05a54c9-9e98-4a0b-9bd3-64a2c55a1d74",
   "metadata": {},
   "outputs": [
    {
     "name": "stdout",
     "output_type": "stream",
     "text": [
      "<Response [200]>\n"
     ]
    }
   ],
   "source": [
    "# 정상응답시 200 리턴\n",
    "response_example1 = get_response(**book_example1)\n",
    "print(response_example1)"
   ]
  },
  {
   "cell_type": "code",
   "execution_count": 22,
   "id": "f95433c0-9fee-407c-8d65-85bdc7512af2",
   "metadata": {},
   "outputs": [
    {
     "data": {
      "text/plain": [
       "200"
      ]
     },
     "execution_count": 22,
     "metadata": {},
     "output_type": "execute_result"
    }
   ],
   "source": [
    "response_example1.status_code"
   ]
  },
  {
   "cell_type": "code",
   "execution_count": 89,
   "id": "d3b15497-ab4c-43c9-b607-3ba69e342981",
   "metadata": {},
   "outputs": [
    {
     "data": {
      "text/plain": [
       "{'Cache-Control': 'private', 'Content-Type': 'text/plain; charset=utf-8', 'Content-Encoding': 'gzip', 'Vary': 'Accept-Encoding', 'Server': 'Microsoft-IIS/7.5', 'Set-Cookie': 'AladdinUS=ZKrK%2boUzjBg%3d&USA=0; domain=aladin.co.kr; expires=Tue, 29-Oct-2041 15:53:44 GMT; path=/', 'X-Powered-By': 'ASP.NET', 'P3P': \"CP='CAO PSA CONi OTR OUR DEM ONL'\", 'Date': 'Fri, 29 Oct 2021 15:53:44 GMT', 'Content-Length': '11800'}"
      ]
     },
     "execution_count": 89,
     "metadata": {},
     "output_type": "execute_result"
    }
   ],
   "source": [
    "response_example1.headers"
   ]
  },
  {
   "cell_type": "code",
   "execution_count": 39,
   "metadata": {},
   "outputs": [],
   "source": [
    "f = open(CURRENT_DIR / \"text.txt\", \"w\")\n",
    "f.write(response_example1.text)\n",
    "f.close()\n",
    "# response_example#.json() 은 사용불가. text 마지막에 세미콜론이 붙어있다."
   ]
  },
  {
   "cell_type": "code",
   "execution_count": 65,
   "id": "8fb2fb85-19c1-4120-a959-996145451637",
   "metadata": {},
   "outputs": [],
   "source": [
    "import json\n",
    "\n",
    "# response_example1.text 는 json을 str화 한 것이다.\n",
    "# 해당 str 마지막에는 왜인지 모르지만 맨 마지막에 세미콜론이 들어가있다.\n",
    "# 또한 '\\t'와 같은 문자가 있을 경우 strict=False가 필요하다.\n",
    "# str->json 은 load 과정이다.\n",
    "# 반대 dump 과정에서 ensure_ascii=False가 필요하다.\n",
    "# 저장된 json은 format documents 해서 볼 것.\n",
    "json_example1 = json.loads(response_example1.text[:-1], strict=False)\n",
    "j = open(\"data.json\", \"w\")\n",
    "json.dump(json_example1, j, ensure_ascii=False)\n",
    "j.close()"
   ]
  },
  {
   "cell_type": "code",
   "execution_count": 85,
   "id": "bfc4871d-07b4-470d-a464-8e1f69088549",
   "metadata": {},
   "outputs": [],
   "source": [
    "def get_bookinfo(isbn_type, isbn_str) -> Dict:\n",
    "    \"\"\"서재정보를 받아 검색한뒤, api정보에서 쓸만한 정보들을 추출하여 dict로 반환하는 함수\"\"\"\n",
    "    res = get_response(isbn_type, isbn_str)\n",
    "    if res.status_code != 200:\n",
    "        print(\"Adadin API Error: status code is not 200\")\n",
    "        return {\"errors\": \"response status code is not 200\"}\n",
    "    json_res: Dict = json.loads(res.text[:-1], strict=False)\n",
    "    useful_keyword = [\"title\", \"description\", \"isbn13\", \"cover\", \"publisher\", \"priceSales\", \"pubDate\", \"author\"]\n",
    "    useful_data = {}\n",
    "    for keyword in useful_keyword:\n",
    "        useful_data[keyword] = json_res[\"item\"][0][keyword]\n",
    "    return useful_data"
   ]
  },
  {
   "cell_type": "code",
   "execution_count": 86,
   "id": "2429d8cf-5140-4c18-9934-a580dfbcd575",
   "metadata": {},
   "outputs": [],
   "source": [
    "extract_example1 = get_bookinfo(**book_example1)"
   ]
  },
  {
   "cell_type": "code",
   "execution_count": 87,
   "id": "2f0e0816-e474-421e-b6f0-3e889bc8ed09",
   "metadata": {},
   "outputs": [
    {
     "name": "stdout",
     "output_type": "stream",
     "text": [
      "{'title': '모던 자바스크립트 Deep Dive - 자바스크립트의 기본 개념과 동작 원리', 'description': '자바스크립트를 둘러싼 기본 개념을 정확하고 구체적으로 설명하고, 자바스크립트 코드의 동작 원리를 집요하게 파헤친다. 작성한 코드가 컴퓨터 내부에서 어떻게 동작할 것인지 예측하고, 명확히 설명할 수 있도록 돕는다.', 'isbn13': '9791158392239', 'cover': 'https://image.aladin.co.kr/product/25155/25/cover/k282633473_1.jpg', 'publisher': '위키북스', 'priceSales': 40500, 'pubDate': '2020-09-24', 'author': '이웅모 지음'}\n"
     ]
    }
   ],
   "source": [
    "print(extract_example1)"
   ]
  },
  {
   "cell_type": "code",
   "execution_count": 92,
   "id": "89273ff5-eb0f-436a-823f-02f1105cdd5d",
   "metadata": {},
   "outputs": [],
   "source": [
    "from PIL import Image\n",
    "from io import BytesIO\n",
    "\n",
    "\n",
    "def get_images(image_url):\n",
    "    res = requests.get(image_url)\n",
    "    bytes_img = res.content\n",
    "    img = Image.open(BytesIO(bytes_img))\n",
    "    img.save(f\"thumbnails.jpg\")"
   ]
  },
  {
   "cell_type": "code",
   "execution_count": 93,
   "metadata": {},
   "outputs": [],
   "source": [
    "get_images(extract_example1['cover'])"
   ]
  },
  {
   "cell_type": "code",
   "execution_count": null,
   "metadata": {},
   "outputs": [],
   "source": [
    "# 와 마무리!"
   ]
  }
 ],
 "metadata": {
  "interpreter": {
   "hash": "c235554841eb14a3434edfd7167d3e93d8e05e71c718747b114325451e94952b"
  },
  "kernelspec": {
   "display_name": "Python 3.9.6 64-bit ('3.9_fastapi': pyenv)",
   "name": "python3"
  },
  "language_info": {
   "codemirror_mode": {
    "name": "ipython",
    "version": 3
   },
   "file_extension": ".py",
   "mimetype": "text/x-python",
   "name": "python",
   "nbconvert_exporter": "python",
   "pygments_lexer": "ipython3",
   "version": "3.9.6"
  }
 },
 "nbformat": 4,
 "nbformat_minor": 5
}
