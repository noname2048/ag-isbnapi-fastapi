{
 "cells": [
  {
   "cell_type": "code",
   "execution_count": 2,
   "id": "636f84af-1ae9-4a15-8bda-e37c05896c50",
   "metadata": {},
   "outputs": [],
   "source": [
    "import requests\n",
    "import os\n",
    "from dotenv import load_dotenv"
   ]
  },
  {
   "cell_type": "code",
   "execution_count": 3,
   "id": "d2926ede-116e-493d-baa9-5137da4f479c",
   "metadata": {},
   "outputs": [
    {
     "data": {
      "text/plain": [
       "True"
      ]
     },
     "execution_count": 3,
     "metadata": {},
     "output_type": "execute_result"
    }
   ],
   "source": [
    "load_dotenv()"
   ]
  },
  {
   "cell_type": "code",
   "execution_count": 4,
   "id": "df29b5b8-9e2f-42a3-a20b-d7034d08b81b",
   "metadata": {},
   "outputs": [],
   "source": [
    "isbn = 9791158392239"
   ]
  },
  {
   "cell_type": "code",
   "execution_count": 5,
   "id": "86ac0407-92a7-4973-8f76-8f1543c73fba",
   "metadata": {},
   "outputs": [],
   "source": [
    "r: requests.Response = requests.get(\n",
    "        \"https://openapi.naver.com/v1/search/book_adv.xml\",\n",
    "        headers={\n",
    "            (client_id := \"X-Naver-Client-Id\"): os.environ[client_id],\n",
    "            (client_secret := \"X-Naver-Client-Secret\"): os.environ[client_secret],\n",
    "        },\n",
    "        params={\"d_isbn\": isbn},\n",
    "    )"
   ]
  },
  {
   "cell_type": "code",
   "execution_count": 6,
   "id": "a9a50f8c-ed40-46ac-afb9-237a7e0351db",
   "metadata": {},
   "outputs": [
    {
     "data": {
      "text/plain": [
       "<Response [200]>"
      ]
     },
     "execution_count": 6,
     "metadata": {},
     "output_type": "execute_result"
    }
   ],
   "source": [
    "r"
   ]
  },
  {
   "cell_type": "code",
   "execution_count": 7,
   "id": "62ada44a-a309-4401-9148-efe145802754",
   "metadata": {},
   "outputs": [
    {
     "data": {
      "text/plain": [
       "['__attrs__',\n",
       " '__bool__',\n",
       " '__class__',\n",
       " '__delattr__',\n",
       " '__dict__',\n",
       " '__dir__',\n",
       " '__doc__',\n",
       " '__enter__',\n",
       " '__eq__',\n",
       " '__exit__',\n",
       " '__format__',\n",
       " '__ge__',\n",
       " '__getattribute__',\n",
       " '__getstate__',\n",
       " '__gt__',\n",
       " '__hash__',\n",
       " '__init__',\n",
       " '__init_subclass__',\n",
       " '__iter__',\n",
       " '__le__',\n",
       " '__lt__',\n",
       " '__module__',\n",
       " '__ne__',\n",
       " '__new__',\n",
       " '__nonzero__',\n",
       " '__reduce__',\n",
       " '__reduce_ex__',\n",
       " '__repr__',\n",
       " '__setattr__',\n",
       " '__setstate__',\n",
       " '__sizeof__',\n",
       " '__str__',\n",
       " '__subclasshook__',\n",
       " '__weakref__',\n",
       " '_content',\n",
       " '_content_consumed',\n",
       " '_next',\n",
       " 'apparent_encoding',\n",
       " 'close',\n",
       " 'connection',\n",
       " 'content',\n",
       " 'cookies',\n",
       " 'elapsed',\n",
       " 'encoding',\n",
       " 'headers',\n",
       " 'history',\n",
       " 'is_permanent_redirect',\n",
       " 'is_redirect',\n",
       " 'iter_content',\n",
       " 'iter_lines',\n",
       " 'json',\n",
       " 'links',\n",
       " 'next',\n",
       " 'ok',\n",
       " 'raise_for_status',\n",
       " 'raw',\n",
       " 'reason',\n",
       " 'request',\n",
       " 'status_code',\n",
       " 'text',\n",
       " 'url']"
      ]
     },
     "execution_count": 7,
     "metadata": {},
     "output_type": "execute_result"
    }
   ],
   "source": [
    "dir(r)"
   ]
  },
  {
   "cell_type": "code",
   "execution_count": 8,
   "id": "0442c39d-2877-471d-8c88-2b4892c94222",
   "metadata": {},
   "outputs": [
    {
     "data": {
      "text/plain": [
       "b'<?xml version=\"1.0\" encoding=\"UTF-8\"?><rss version=\"2.0\"><channel><title>Naver Open API - book_adv ::\\'\\'</title><link>https://search.naver.com</link><description>Naver Search Result</description><lastBuildDate>Wed, 02 Jun 2021 05:36:49 +0900</lastBuildDate><total>1</total><start>1</start><display>1</display><item><title>\\xeb\\xaa\\xa8\\xeb\\x8d\\x98 \\xec\\x9e\\x90\\xeb\\xb0\\x94\\xec\\x8a\\xa4\\xed\\x81\\xac\\xeb\\xa6\\xbd\\xed\\x8a\\xb8 Deep Dive (\\xec\\x9e\\x90\\xeb\\xb0\\x94\\xec\\x8a\\xa4\\xed\\x81\\xac\\xeb\\xa6\\xbd\\xed\\x8a\\xb8\\xec\\x9d\\x98 \\xea\\xb8\\xb0\\xeb\\xb3\\xb8 \\xea\\xb0\\x9c\\xeb\\x85\\x90\\xea\\xb3\\xbc \\xeb\\x8f\\x99\\xec\\x9e\\x91 \\xec\\x9b\\x90\\xeb\\xa6\\xac)</title><link>http://book.naver.com/bookdb/book_detail.php?bid=16710547</link><image>https://bookthumb-phinf.pstatic.net/cover/167/105/16710547.jpg?type=m1&amp;udate=20210104</image><author>\\xec\\x9d\\xb4\\xec\\x9b\\x85\\xeb\\xaa\\xa8</author><price>45000</price><discount>40500</discount><publisher>\\xec\\x9c\\x84\\xed\\x82\\xa4\\xeb\\xb6\\x81\\xec\\x8a\\xa4</publisher><pubdate>20200925</pubdate><isbn>1158392230 9791158392239</isbn><description>269\\xea\\xb0\\x9c\\xec\\x9d\\x98 \\xea\\xb7\\xb8\\xeb\\xa6\\xbc\\xea\\xb3\\xbc \\xec\\x9b\\x90\\xeb\\xa6\\xac\\xeb\\xa5\\xbc \\xed\\x8c\\x8c\\xed\\x97\\xa4\\xec\\xb9\\x98\\xeb\\x8a\\x94 \\xec\\x84\\xa4\\xeb\\xaa\\x85\\xec\\x9c\\xbc\\xeb\\xa1\\x9c \\xe2\\x80\\x98\\xec\\x9e\\x90\\xeb\\xb0\\x94\\xec\\x8a\\xa4\\xed\\x81\\xac\\xeb\\xa6\\xbd\\xed\\x8a\\xb8\\xec\\x9d\\x98 \\xea\\xb8\\xb0\\xeb\\xb3\\xb8 \\xea\\xb0\\x9c\\xeb\\x85\\x90\\xea\\xb3\\xbc \\xeb\\x8f\\x99\\xec\\x9e\\x91 \\xec\\x9b\\x90\\xeb\\xa6\\xac\\xe2\\x80\\x99\\xeb\\xa5\\xbc \\xec\\x9d\\xb4\\xed\\x95\\xb4\\xed\\x95\\x98\\xec\\x9e\\x90!\\n\\xec\\x9b\\xb9\\xed\\x8e\\x98\\xec\\x9d\\xb4\\xec\\xa7\\x80\\xec\\x9d\\x98 \\xeb\\x8b\\xa8\\xec\\x88\\x9c\\xed\\x95\\x9c \\xeb\\xb3\\xb4\\xec\\xa1\\xb0 \\xea\\xb8\\xb0\\xeb\\x8a\\xa5\\xec\\x9d\\x84 \\xec\\xb2\\x98\\xeb\\xa6\\xac\\xed\\x95\\x98\\xea\\xb8\\xb0 \\xec\\x9c\\x84\\xed\\x95\\x9c \\xec\\xa0\\x9c\\xed\\x95\\x9c\\xec\\xa0\\x81\\xec\\x9d\\xb8 \\xec\\x9a\\xa9\\xeb\\x8f\\x84\\xeb\\xa1\\x9c \\xed\\x83\\x9c\\xec\\x96\\xb4\\xeb\\x82\\x9c \\xec\\x9e\\x90\\xeb\\xb0\\x94\\xec\\x8a\\xa4\\xed\\x81\\xac\\xeb\\xa6\\xbd\\xed\\x8a\\xb8\\xeb\\x8a\\x94 \\xea\\xb3\\xbc\\xeb\\x8f\\x84\\xed\\x95\\x98\\xeb\\x8b\\xa4\\xea\\xb3\\xa0 \\xeb\\x8a\\x90\\xea\\xbb\\xb4\\xec\\xa7\\x88 \\xeb\\xa7\\x8c\\xed\\x81\\xbc \\xec\\xb9\\x9c\\xec\\xa0\\x88\\xed\\x95\\x9c \\xed\\x94\\x84\\xeb\\xa1\\x9c\\xea\\xb7\\xb8\\xeb\\x9e\\x98\\xeb\\xb0\\x8d \\xec\\x96\\xb8\\xec\\x96\\xb4\\xec\\x9e\\x85\\xeb\\x8b\\x88\\xeb\\x8b\\xa4. \\xec\\x9d\\xb4\\xeb\\x9f\\xac\\xed\\x95\\x9c \\xec\\x9e\\x90\\xeb\\xb0\\x94\\xec\\x8a\\xa4\\xed\\x81\\xac\\xeb\\xa6\\xbd\\xed\\x8a\\xb8\\xec\\x9d\\x98 \\xed\\x8a\\xb9\\xec\\xa7\\x95\\xec\\x9d\\x80 \\xed\\x8e\\xb8\\xeb\\xa6\\xac\\xed\\x95\\x9c \\xea\\xb2\\xbd\\xec\\x9a\\xb0\\xeb\\x8f\\x84 \\xec\\x9e\\x88\\xec\\xa7\\x80\\xeb\\xa7\\x8c \\xeb\\x82\\xb4\\xeb\\xb6\\x80... </description></item></channel></rss>'"
      ]
     },
     "execution_count": 8,
     "metadata": {},
     "output_type": "execute_result"
    }
   ],
   "source": [
    "r.content"
   ]
  },
  {
   "cell_type": "code",
   "execution_count": 9,
   "id": "a9a80c4b-deb4-4c6a-88a5-2b17e905275f",
   "metadata": {},
   "outputs": [],
   "source": [
    "import xml.etree.ElementTree as elemTree"
   ]
  },
  {
   "cell_type": "code",
   "execution_count": 10,
   "id": "a78f75bc-2f77-47e9-bb67-967923cbc4ff",
   "metadata": {},
   "outputs": [
    {
     "data": {
      "text/plain": [
       "'<?xml version=\"1.0\" encoding=\"UTF-8\"?><rss version=\"2.0\"><channel><title>Naver Open API - book_adv ::\\'\\'</title><link>https://search.naver.com</link><description>Naver Search Result</description><lastBuildDate>Wed, 02 Jun 2021 05:36:49 +0900</lastBuildDate><total>1</total><start>1</start><display>1</display><item><title>모던 자바스크립트 Deep Dive (자바스크립트의 기본 개념과 동작 원리)</title><link>http://book.naver.com/bookdb/book_detail.php?bid=16710547</link><image>https://bookthumb-phinf.pstatic.net/cover/167/105/16710547.jpg?type=m1&amp;udate=20210104</image><author>이웅모</author><price>45000</price><discount>40500</discount><publisher>위키북스</publisher><pubdate>20200925</pubdate><isbn>1158392230 9791158392239</isbn><description>269개의 그림과 원리를 파헤치는 설명으로 ‘자바스크립트의 기본 개념과 동작 원리’를 이해하자!\\n웹페이지의 단순한 보조 기능을 처리하기 위한 제한적인 용도로 태어난 자바스크립트는 과도하다고 느껴질 만큼 친절한 프로그래밍 언어입니다. 이러한 자바스크립트의 특징은 편리한 경우도 있지만 내부... </description></item></channel></rss>'"
      ]
     },
     "execution_count": 10,
     "metadata": {},
     "output_type": "execute_result"
    }
   ],
   "source": [
    "r.text"
   ]
  },
  {
   "cell_type": "code",
   "execution_count": 11,
   "id": "808f0654-6e3d-4002-987e-d2926a61ca71",
   "metadata": {},
   "outputs": [],
   "source": [
    "tree = elemTree.fromstring(r.text)"
   ]
  },
  {
   "cell_type": "code",
   "execution_count": 12,
   "id": "35655264-f593-4b7c-964e-5d577d51acb0",
   "metadata": {},
   "outputs": [
    {
     "data": {
      "text/plain": [
       "['__class__',\n",
       " '__copy__',\n",
       " '__deepcopy__',\n",
       " '__delattr__',\n",
       " '__delitem__',\n",
       " '__dir__',\n",
       " '__doc__',\n",
       " '__eq__',\n",
       " '__format__',\n",
       " '__ge__',\n",
       " '__getattribute__',\n",
       " '__getitem__',\n",
       " '__getstate__',\n",
       " '__gt__',\n",
       " '__hash__',\n",
       " '__init__',\n",
       " '__init_subclass__',\n",
       " '__le__',\n",
       " '__len__',\n",
       " '__lt__',\n",
       " '__ne__',\n",
       " '__new__',\n",
       " '__reduce__',\n",
       " '__reduce_ex__',\n",
       " '__repr__',\n",
       " '__setattr__',\n",
       " '__setitem__',\n",
       " '__setstate__',\n",
       " '__sizeof__',\n",
       " '__str__',\n",
       " '__subclasshook__',\n",
       " 'append',\n",
       " 'attrib',\n",
       " 'clear',\n",
       " 'extend',\n",
       " 'find',\n",
       " 'findall',\n",
       " 'findtext',\n",
       " 'get',\n",
       " 'getchildren',\n",
       " 'getiterator',\n",
       " 'insert',\n",
       " 'items',\n",
       " 'iter',\n",
       " 'iterfind',\n",
       " 'itertext',\n",
       " 'keys',\n",
       " 'makeelement',\n",
       " 'remove',\n",
       " 'set',\n",
       " 'tag',\n",
       " 'tail',\n",
       " 'text']"
      ]
     },
     "execution_count": 12,
     "metadata": {},
     "output_type": "execute_result"
    }
   ],
   "source": [
    "dir(tree)"
   ]
  },
  {
   "cell_type": "code",
   "execution_count": 13,
   "id": "76489f61-9ded-4813-bb1c-8743fc0bb488",
   "metadata": {},
   "outputs": [
    {
     "data": {
      "text/plain": [
       "'모던 자바스크립트 Deep Dive (자바스크립트의 기본 개념과 동작 원리)'"
      ]
     },
     "execution_count": 13,
     "metadata": {},
     "output_type": "execute_result"
    }
   ],
   "source": [
    "tree.find('channel/item/title').text"
   ]
  },
  {
   "cell_type": "code",
   "execution_count": 14,
   "id": "0d705b1b-1821-476e-8a76-710d657a167b",
   "metadata": {},
   "outputs": [],
   "source": [
    "import xmltodict"
   ]
  },
  {
   "cell_type": "code",
   "execution_count": 15,
   "id": "18cd328d-bf47-4a2f-a77f-78c8e6f1feb4",
   "metadata": {},
   "outputs": [
    {
     "data": {
      "text/plain": [
       "[('title', '모던 자바스크립트 Deep Dive (자바스크립트의 기본 개념과 동작 원리)'),\n",
       " ('link', 'http://book.naver.com/bookdb/book_detail.php?bid=16710547'),\n",
       " ('image',\n",
       "  'https://bookthumb-phinf.pstatic.net/cover/167/105/16710547.jpg?type=m1&udate=20210104'),\n",
       " ('author', '이웅모'),\n",
       " ('price', '45000'),\n",
       " ('discount', '40500'),\n",
       " ('publisher', '위키북스'),\n",
       " ('pubdate', '20200925'),\n",
       " ('isbn', '1158392230 9791158392239'),\n",
       " ('description',\n",
       "  '269개의 그림과 원리를 파헤치는 설명으로 ‘자바스크립트의 기본 개념과 동작 원리’를 이해하자!\\n웹페이지의 단순한 보조 기능을 처리하기 위한 제한적인 용도로 태어난 자바스크립트는 과도하다고 느껴질 만큼 친절한 프로그래밍 언어입니다. 이러한 자바스크립트의 특징은 편리한 경우도 있지만 내부... ')]"
      ]
     },
     "execution_count": 15,
     "metadata": {},
     "output_type": "execute_result"
    }
   ],
   "source": [
    "[(elem.tag, elem.text) for elem in list(tree.find('channel/item'))]"
   ]
  },
  {
   "cell_type": "code",
   "execution_count": 16,
   "id": "a0835c56-3939-4795-9dbb-e3233c99f303",
   "metadata": {},
   "outputs": [
    {
     "data": {
      "text/plain": [
       "{'title': '모던 자바스크립트 Deep Dive (자바스크립트의 기본 개념과 동작 원리)',\n",
       " 'link': 'http://book.naver.com/bookdb/book_detail.php?bid=16710547',\n",
       " 'image': 'https://bookthumb-phinf.pstatic.net/cover/167/105/16710547.jpg?type=m1&udate=20210104',\n",
       " 'author': '이웅모',\n",
       " 'price': '45000',\n",
       " 'discount': '40500',\n",
       " 'publisher': '위키북스',\n",
       " 'pubdate': '20200925',\n",
       " 'isbn': '1158392230 9791158392239',\n",
       " 'description': '269개의 그림과 원리를 파헤치는 설명으로 ‘자바스크립트의 기본 개념과 동작 원리’를 이해하자!\\n웹페이지의 단순한 보조 기능을 처리하기 위한 제한적인 용도로 태어난 자바스크립트는 과도하다고 느껴질 만큼 친절한 프로그래밍 언어입니다. 이러한 자바스크립트의 특징은 편리한 경우도 있지만 내부... '}"
      ]
     },
     "execution_count": 16,
     "metadata": {},
     "output_type": "execute_result"
    }
   ],
   "source": [
    "new_dict = dict()\n",
    "for elem in list(tree.find('channel/item')):\n",
    "    new_dict[elem.tag] = elem.text\n",
    "new_dict"
   ]
  },
  {
   "cell_type": "code",
   "execution_count": 17,
   "id": "550aabd8-8ec9-49c3-85ea-aaaaa43da617",
   "metadata": {},
   "outputs": [],
   "source": [
    "a = requests.get(new_dict['image'])"
   ]
  },
  {
   "cell_type": "code",
   "execution_count": 18,
   "id": "2c97004f-7b3a-4b1b-b30c-514274dbf397",
   "metadata": {},
   "outputs": [],
   "source": [
    "from PIL import Image\n",
    "from io import BytesIO"
   ]
  },
  {
   "cell_type": "code",
   "execution_count": 19,
   "id": "c2f5e426-5b2e-4451-86d6-7072068272f3",
   "metadata": {},
   "outputs": [],
   "source": [
    "img = Image.open(BytesIO(a.content))"
   ]
  },
  {
   "cell_type": "code",
   "execution_count": 20,
   "id": "6cc4c389-30f4-4b3d-90d0-8e10b41ffe60",
   "metadata": {},
   "outputs": [
    {
     "data": {
      "image/png": "[encoded data removed]",
      "text/plain": [
       "<PIL.JpegImagePlugin.JpegImageFile image mode=RGB size=82x100 at 0x7F6D7EDE00D0>"
      ]
     },
     "execution_count": 20,
     "metadata": {},
     "output_type": "execute_result"
    }
   ],
   "source": [
    "img"
   ]
  },
  {
   "cell_type": "code",
   "execution_count": 21,
   "id": "7bea1909-e36b-4e31-ad31-146d95bb3019",
   "metadata": {},
   "outputs": [],
   "source": [
    "img.save(\"thumb.jpg\")"
   ]
  },
  {
   "cell_type": "code",
   "execution_count": 23,
   "id": "b9a54329-56a9-4e21-9d6d-6305b0f90820",
   "metadata": {},
   "outputs": [
    {
     "data": {
      "text/plain": [
       "'9791158392239'"
      ]
     },
     "execution_count": 23,
     "metadata": {},
     "output_type": "execute_result"
    }
   ],
   "source": [
    "new_dict['isbn'].split(' ')[-1]"
   ]
  },
  {
   "cell_type": "code",
   "execution_count": null,
   "id": "62b15630-0d32-48e3-9730-0cee45431752",
   "metadata": {},
   "outputs": [],
   "source": []
  }
 ],
 "metadata": {
  "kernelspec": {
   "display_name": "Python 3",
   "language": "python",
   "name": "python3"
  },
  "language_info": {
   "codemirror_mode": {
    "name": "ipython",
    "version": 3
   },
   "file_extension": ".py",
   "mimetype": "text/x-python",
   "name": "python",
   "nbconvert_exporter": "python",
   "pygments_lexer": "ipython3",
   "version": "3.8.8"
  }
 },
 "nbformat": 4,
 "nbformat_minor": 5
}
