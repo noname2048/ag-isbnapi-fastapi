{
 "cells": [
  {
   "cell_type": "code",
   "execution_count": 6,
   "metadata": {},
   "outputs": [],
   "source": [
    "import re\n",
    "\n",
    "p = re.compile(\"ab+\")"
   ]
  },
  {
   "cell_type": "code",
   "execution_count": 5,
   "metadata": {},
   "outputs": [
    {
     "name": "stdout",
     "output_type": "stream",
     "text": [
      "re.ASCII re.DOTALL re.IGNORECASE re.LOCALE re.MULTILINE re.VERBOSE\n"
     ]
    }
   ],
   "source": [
    "print(\n",
    "    re.ASCII,\n",
    "    re.DOTALL,\n",
    "    re.IGNORECASE,\n",
    "    re.LOCALE,\n",
    "    re.MULTILINE,\n",
    "    re.VERBOSE)"
   ]
  },
  {
   "cell_type": "code",
   "execution_count": 13,
   "metadata": {},
   "outputs": [
    {
     "name": "stdout",
     "output_type": "stream",
     "text": [
      "None\n",
      "<re.Match object; span=(0, 2), match='ab'>\n",
      "<re.Match object; span=(2, 4), match='ab'>\n",
      "['ab', 'ab']\n",
      "<re.Match object; span=(2, 4), match='ab'>\n",
      "<re.Match object; span=(7, 9), match='ab'>\n"
     ]
    }
   ],
   "source": [
    "s = \"cdabxyzab\"\n",
    "s2 = \"abcdxyzab\"\n",
    "print(p.match(s))\n",
    "print(p.match(s2))\n",
    "print(p.search(s))\n",
    "print(p.findall(s))\n",
    "for i in p.finditer(s):\n",
    "    print(i)"
   ]
  },
  {
   "cell_type": "code",
   "execution_count": 28,
   "metadata": {},
   "outputs": [
    {
     "name": "stdout",
     "output_type": "stream",
     "text": [
      "<re.Match object; span=(4, 6), match='aa'>\n",
      "a\n"
     ]
    }
   ],
   "source": [
    "p = re.compile(r\"(a|b)\\1\")\n",
    "r = p.search(\"ababaaabb\")\n",
    "print(r)\n",
    "print(r.group(1))"
   ]
  },
  {
   "cell_type": "code",
   "execution_count": 29,
   "metadata": {},
   "outputs": [
    {
     "name": "stdout",
     "output_type": "stream",
     "text": [
      "<re.Match object; span=(4, 8), match='abcd'>\n"
     ]
    }
   ],
   "source": [
    "p = re.compile(r\"(a(b)c)d\")\n",
    "r = p.search(\"1230abcd\")\n",
    "print(r)"
   ]
  },
  {
   "cell_type": "code",
   "execution_count": null,
   "metadata": {},
   "outputs": [],
   "source": []
  }
 ],
 "metadata": {
  "interpreter": {
   "hash": "fb071bdcf5948104a9c0d92648fb682a3d776448b1c668dd9a0e1040cdbb7415"
  },
  "kernelspec": {
   "display_name": "Python 3.8.13 64-bit ('fastapi-3.8')",
   "language": "python",
   "name": "python3"
  },
  "language_info": {
   "codemirror_mode": {
    "name": "ipython",
    "version": 3
   },
   "file_extension": ".py",
   "mimetype": "text/x-python",
   "name": "python",
   "nbconvert_exporter": "python",
   "pygments_lexer": "ipython3",
   "version": "3.8.13"
  },
  "orig_nbformat": 4
 },
 "nbformat": 4,
 "nbformat_minor": 2
}
