{
 "cells": [
  {
   "cell_type": "code",
   "execution_count": 25,
   "metadata": {},
   "outputs": [],
   "source": [
    "# 22-04-26 AWS 업로드 파일이 0kb인 증상 발생\n",
    "import os\n",
    "from pathlib import Path\n",
    "import sys\n",
    "\n",
    "repo_dir = Path(os.getcwd()).parent\n",
    "sys.path.append(str(repo_dir))"
   ]
  },
  {
   "cell_type": "code",
   "execution_count": 26,
   "metadata": {},
   "outputs": [],
   "source": [
    "\n",
    "from app.common.config import settings\n",
    "from boto3 import resource\n",
    "\n",
    "s3 = resource(\n",
    "    \"s3\",\n",
    "    region_name=\"ap-northeast-2\",\n",
    "    aws_access_key_id=settings.boto3_aws_access_id,\n",
    "    aws_secret_access_key=settings.boto3_aws_access_key,\n",
    ")\n",
    "bucket = s3.Bucket(\"job-book-image\")\n",
    "obj = bucket.Object(\"test.jpg\")"
   ]
  },
  {
   "cell_type": "code",
   "execution_count": 29,
   "metadata": {},
   "outputs": [
    {
     "ename": "TypeError",
     "evalue": "'module' object is not callable",
     "output_type": "error",
     "traceback": [
      "\u001b[0;31m---------------------------------------------------------------------------\u001b[0m",
      "\u001b[0;31mTypeError\u001b[0m                                 Traceback (most recent call last)",
      "\u001b[1;32m/Users/cswook/Desktop/web/ag-isbnapi-fastapi/jupyter_research/aws_0kb.ipynb Cell 3'\u001b[0m in \u001b[0;36m<module>\u001b[0;34m\u001b[0m\n\u001b[1;32m      <a href='vscode-notebook-cell:/Users/cswook/Desktop/web/ag-isbnapi-fastapi/jupyter_research/aws_0kb.ipynb#ch0000005?line=2'>3</a>\u001b[0m img \u001b[39m=\u001b[39m res\u001b[39m.\u001b[39mraw\n\u001b[1;32m      <a href='vscode-notebook-cell:/Users/cswook/Desktop/web/ag-isbnapi-fastapi/jupyter_research/aws_0kb.ipynb#ch0000005?line=4'>5</a>\u001b[0m \u001b[39mfrom\u001b[39;00m \u001b[39mPIL\u001b[39;00m \u001b[39mimport\u001b[39;00m Image\n\u001b[0;32m----> <a href='vscode-notebook-cell:/Users/cswook/Desktop/web/ag-isbnapi-fastapi/jupyter_research/aws_0kb.ipynb#ch0000005?line=5'>6</a>\u001b[0m image \u001b[39m=\u001b[39m Image(img)\n\u001b[1;32m      <a href='vscode-notebook-cell:/Users/cswook/Desktop/web/ag-isbnapi-fastapi/jupyter_research/aws_0kb.ipynb#ch0000005?line=6'>7</a>\u001b[0m displ\n",
      "\u001b[0;31mTypeError\u001b[0m: 'module' object is not callable"
     ]
    }
   ],
   "source": [
    "import requests\n",
    "res = requests.get(\"https://image.aladin.co.kr/product/28919/57/cover/k132836119_1.jpg\")\n",
    "img = res.raw\n",
    "\n",
    "from PIL import Image\n",
    "image = Image(img)\n",
    "display(image)"
   ]
  },
  {
   "cell_type": "code",
   "execution_count": null,
   "metadata": {},
   "outputs": [],
   "source": []
  }
 ],
 "metadata": {
  "interpreter": {
   "hash": "fb071bdcf5948104a9c0d92648fb682a3d776448b1c668dd9a0e1040cdbb7415"
  },
  "kernelspec": {
   "display_name": "Python 3.8.13 64-bit ('fastapi-3.8')",
   "language": "python",
   "name": "python3"
  },
  "language_info": {
   "codemirror_mode": {
    "name": "ipython",
    "version": 3
   },
   "file_extension": ".py",
   "mimetype": "text/x-python",
   "name": "python",
   "nbconvert_exporter": "python",
   "pygments_lexer": "ipython3",
   "version": "3.8.13"
  },
  "orig_nbformat": 4
 },
 "nbformat": 4,
 "nbformat_minor": 2
}
